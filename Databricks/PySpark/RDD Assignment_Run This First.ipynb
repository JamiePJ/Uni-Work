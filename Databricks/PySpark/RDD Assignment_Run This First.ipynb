{
 "cells": [
  {
   "cell_type": "markdown",
   "metadata": {
    "application/vnd.databricks.v1+cell": {
     "cellMetadata": {
      "byteLimit": 2048000,
      "rowLimit": 10000
     },
     "inputWidgets": {},
     "nuid": "f0113c3a-3f6f-45a9-9b63-eeba071e23f6",
     "showTitle": false,
     "title": ""
    }
   },
   "source": [
    "# Reusable RDD File for all Clinical Trial Years\n",
    "This notebook is fully rerunnable using the datasets for Clinical Trials from 2023, 2021 and 2020. <br>\n",
    "The first section (\"Unzip file in UNIX and move to DBFS\") will remove existing clinical trials .zip and .csv files from DBFS and the /tmp/ folders. <br>\n",
    "In the \"Data Preprocessing\" section, please specify the year for the analysis by changing the <b> \"year\" </b> variable in cell \"Cmd 13\". This section will complete the preprocessing on the chosen dataset, then will save a cleaned copy as .csv for use in the DataFrame and SQL notebooks. <br>\n",
    "Cell \"Cmd 33\" in the Data Preprocessing section will repeat the preprocessing steps for the two years that were not chosen under the <b> \"year\" </b> variable and save these as cleaned .csv files as well, so that they can be used in the DataFrame and SQL notebooks too without needing to run the RDD notebook separately every time the year of analysis is changed."
   ]
  },
  {
   "cell_type": "markdown",
   "metadata": {
    "application/vnd.databricks.v1+cell": {
     "cellMetadata": {
      "byteLimit": 2048000,
      "rowLimit": 10000
     },
     "inputWidgets": {},
     "nuid": "8ad93612-3722-40a9-9cd3-67374f08c793",
     "showTitle": false,
     "title": ""
    }
   },
   "source": [
    "#### Unzip file in UNIX and move to DBFS\n",
    "These steps will remove existing .zip and .csv files from DBFS and the /tmp/ folders. <br>\n",
    "Please note these initial steps will also remove the cleaned .csv files that are saved to DBFS after Data Preprocessing, for use in the DataFrame and SQL notebooks. <br>\n",
    "The cleaned .csv files can be recreated by running the Data Preprocessing cells below."
   ]
  },
  {
   "cell_type": "code",
   "execution_count": 0,
   "metadata": {
    "application/vnd.databricks.v1+cell": {
     "cellMetadata": {
      "byteLimit": 2048000,
      "rowLimit": 10000
     },
     "inputWidgets": {},
     "nuid": "3f70a30c-07aa-454c-bb49-a16f9edbd980",
     "showTitle": false,
     "title": ""
    }
   },
   "outputs": [],
   "source": [
    "# in next UNIX shell block, remove existing files for notebook to create again"
   ]
  },
  {
   "cell_type": "code",
   "execution_count": 0,
   "metadata": {
    "application/vnd.databricks.v1+cell": {
     "cellMetadata": {
      "byteLimit": 2048000,
      "rowLimit": 10000
     },
     "inputWidgets": {},
     "nuid": "bd017379-961d-4796-b966-916cab15ac0c",
     "showTitle": false,
     "title": ""
    }
   },
   "outputs": [
    {
     "output_type": "stream",
     "name": "stderr",
     "output_type": "stream",
     "text": [
      "rm: cannot remove '/tmp/clinicaltrial_2023.csv': No such file or directory\nrm: cannot remove '/tmp/clinicaltrial_2023.zip': No such file or directory\nrm: cannot remove '/tmp/clinicaltrial_2021.csv': No such file or directory\nrm: cannot remove '/tmp/clinicaltrial_2021.zip': No such file or directory\nrm: cannot remove '/tmp/clinicaltrial_2020,csv': No such file or directory\nrm: cannot remove '/tmp/clinicaltrial_2020.zip': No such file or directory\n"
     ]
    }
   ],
   "source": [
    "%sh\n",
    "rm -r /tmp/clinicaltrial_2023.csv\n",
    "rm /tmp/clinicaltrial_2023.zip\n",
    "rm -r /tmp/clinicaltrial_2021.csv\n",
    "rm /tmp/clinicaltrial_2021.zip\n",
    "rm -r /tmp/clinicaltrial_2020,csv\n",
    "rm /tmp/clinicaltrial_2020.zip"
   ]
  },
  {
   "cell_type": "code",
   "execution_count": 0,
   "metadata": {
    "application/vnd.databricks.v1+cell": {
     "cellMetadata": {
      "byteLimit": 2048000,
      "rowLimit": 10000
     },
     "inputWidgets": {},
     "nuid": "18e6e1ca-423e-4ca7-b4d6-f0e9f2daeefb",
     "showTitle": false,
     "title": ""
    }
   },
   "outputs": [
    {
     "output_type": "execute_result",
     "data": {
      "text/plain": [
       "True"
      ]
     },
     "execution_count": 3,
     "metadata": {},
     "output_type": "execute_result"
    }
   ],
   "source": [
    "# clean DBFS of files that the notebook needs to create again\n",
    "year_list = [\"2020\", \"2021\", \"2023\"]\n",
    "for year in year_list:\n",
    "    dbutils.fs.rm(f\"/FileStore/tables/clinicaltrial_{year}\", True)\n",
    "    dbutils.fs.rm(f\"/FileStore/tables/clinicaltrial_{year}.csv\", True)\n",
    "dbutils.fs.rm(\"/FileStore/tables/companies_df.csv\", True)"
   ]
  },
  {
   "cell_type": "code",
   "execution_count": 0,
   "metadata": {
    "application/vnd.databricks.v1+cell": {
     "cellMetadata": {
      "byteLimit": 2048000,
      "rowLimit": 10000
     },
     "inputWidgets": {},
     "nuid": "99a9d8c9-d966-4fa4-a229-3dbfa6e100b1",
     "showTitle": false,
     "title": ""
    }
   },
   "outputs": [],
   "source": [
    "# copy zip file to /tmp/ to unzip\n",
    "for year in year_list:\n",
    "    dbutils.fs.cp(f\"/FileStore/tables/clinicaltrial_{year}.zip\", \"file:/tmp/\")\n",
    "\n",
    "# in next UNIX shell block, unzip file in /tmp/ folder"
   ]
  },
  {
   "cell_type": "code",
   "execution_count": 0,
   "metadata": {
    "application/vnd.databricks.v1+cell": {
     "cellMetadata": {
      "byteLimit": 2048000,
      "rowLimit": 10000
     },
     "inputWidgets": {},
     "nuid": "4b7fc4e7-215c-42a7-8f39-f5cbb6b6222e",
     "showTitle": false,
     "title": ""
    }
   },
   "outputs": [
    {
     "output_type": "stream",
     "name": "stdout",
     "output_type": "stream",
     "text": [
      "Archive:  /tmp/clinicaltrial_2023.zip\n  inflating: /tmp/clinicaltrial_2023.csv  \nArchive:  /tmp/clinicaltrial_2021.zip\n  inflating: /tmp/clinicaltrial_2021.csv  \nArchive:  /tmp/clinicaltrial_2020.zip\n  inflating: /tmp/clinicaltrial_2020.csv  \n"
     ]
    }
   ],
   "source": [
    "%sh\n",
    "unzip -d /tmp /tmp/clinicaltrial_2023.zip\n",
    "unzip -d /tmp /tmp/clinicaltrial_2021.zip\n",
    "unzip -d /tmp /tmp/clinicaltrial_2020.zip"
   ]
  },
  {
   "cell_type": "code",
   "execution_count": 0,
   "metadata": {
    "application/vnd.databricks.v1+cell": {
     "cellMetadata": {
      "byteLimit": 2048000,
      "rowLimit": 10000
     },
     "inputWidgets": {},
     "nuid": "2ca2da1c-0b43-41ca-a1bc-02b272edebc0",
     "showTitle": false,
     "title": ""
    }
   },
   "outputs": [],
   "source": [
    "# move unzipped file to DBFS\n",
    "for year in year_list:\n",
    "    dbutils.fs.mv(f\"file:/tmp/clinicaltrial_{year}.csv\", f\"FileStore/tables/clinicaltrial_{year}.csv\", True)"
   ]
  },
  {
   "cell_type": "code",
   "execution_count": 0,
   "metadata": {
    "application/vnd.databricks.v1+cell": {
     "cellMetadata": {
      "byteLimit": 2048000,
      "rowLimit": 10000
     },
     "inputWidgets": {},
     "nuid": "038aaa4b-6b99-4a1c-805d-c7ccf72895f7",
     "showTitle": false,
     "title": ""
    }
   },
   "outputs": [
    {
     "output_type": "execute_result",
     "data": {
      "text/plain": [
       "[FileInfo(path='dbfs:/FileStore/tables/Occupancy_Detection_Data.csv', name='Occupancy_Detection_Data.csv', size=50968, modificationTime=1709126517000),\n",
       " FileInfo(path='dbfs:/FileStore/tables/TS021_2021_2.csv', name='TS021_2021_2.csv', size=497239, modificationTime=1710944683000),\n",
       " FileInfo(path='dbfs:/FileStore/tables/account-models/', name='account-models/', size=0, modificationTime=0),\n",
       " FileInfo(path='dbfs:/FileStore/tables/accounts/', name='accounts/', size=0, modificationTime=0),\n",
       " FileInfo(path='dbfs:/FileStore/tables/activations/', name='activations/', size=0, modificationTime=0),\n",
       " FileInfo(path='dbfs:/FileStore/tables/activations.zip', name='activations.zip', size=8411369, modificationTime=1706705270000),\n",
       " FileInfo(path='dbfs:/FileStore/tables/clinicaltrial_2020.csv', name='clinicaltrial_2020.csv', size=46318151, modificationTime=1714471682000),\n",
       " FileInfo(path='dbfs:/FileStore/tables/clinicaltrial_2020.zip', name='clinicaltrial_2020.zip', size=10599182, modificationTime=1711380183000),\n",
       " FileInfo(path='dbfs:/FileStore/tables/clinicaltrial_2021.csv', name='clinicaltrial_2021.csv', size=50359696, modificationTime=1714471687000),\n",
       " FileInfo(path='dbfs:/FileStore/tables/clinicaltrial_2021.zip', name='clinicaltrial_2021.zip', size=11508457, modificationTime=1711380184000),\n",
       " FileInfo(path='dbfs:/FileStore/tables/clinicaltrial_2023.csv', name='clinicaltrial_2023.csv', size=292436366, modificationTime=1714471704000),\n",
       " FileInfo(path='dbfs:/FileStore/tables/clinicaltrial_2023.zip', name='clinicaltrial_2023.zip', size=57166668, modificationTime=1711379386000),\n",
       " FileInfo(path='dbfs:/FileStore/tables/df_2020.csv/', name='df_2020.csv/', size=0, modificationTime=0),\n",
       " FileInfo(path='dbfs:/FileStore/tables/df_2021.csv/', name='df_2021.csv/', size=0, modificationTime=0),\n",
       " FileInfo(path='dbfs:/FileStore/tables/df_2023.csv/', name='df_2023.csv/', size=0, modificationTime=0),\n",
       " FileInfo(path='dbfs:/FileStore/tables/ethnic.csv/', name='ethnic.csv/', size=0, modificationTime=0),\n",
       " FileInfo(path='dbfs:/FileStore/tables/flood-1.csv', name='flood-1.csv', size=128984, modificationTime=1707928131000),\n",
       " FileInfo(path='dbfs:/FileStore/tables/flood-2.csv', name='flood-2.csv', size=128984, modificationTime=1707928198000),\n",
       " FileInfo(path='dbfs:/FileStore/tables/flood.csv', name='flood.csv', size=128984, modificationTime=1707920996000),\n",
       " FileInfo(path='dbfs:/FileStore/tables/iotstream.zip', name='iotstream.zip', size=43891, modificationTime=1708524398000),\n",
       " FileInfo(path='dbfs:/FileStore/tables/iotstreams/', name='iotstreams/', size=0, modificationTime=0),\n",
       " FileInfo(path='dbfs:/FileStore/tables/logs/', name='logs/', size=0, modificationTime=0),\n",
       " FileInfo(path='dbfs:/FileStore/tables/lucy_ratings.csv', name='lucy_ratings.csv', size=11357, modificationTime=1709809682000),\n",
       " FileInfo(path='dbfs:/FileStore/tables/movies.csv', name='movies.csv', size=494431, modificationTime=1709730591000),\n",
       " FileInfo(path='dbfs:/FileStore/tables/my_game_playtime.csv', name='my_game_playtime.csv', size=205543, modificationTime=1711992870000),\n",
       " FileInfo(path='dbfs:/FileStore/tables/myratings2.csv', name='myratings2.csv', size=10774, modificationTime=1709808634000),\n",
       " FileInfo(path='dbfs:/FileStore/tables/myratings_1_.csv', name='myratings_1_.csv', size=10725, modificationTime=1709730592000),\n",
       " FileInfo(path='dbfs:/FileStore/tables/pharma.csv', name='pharma.csv', size=678999, modificationTime=1714467288000),\n",
       " FileInfo(path='dbfs:/FileStore/tables/pharma.zip', name='pharma.zip', size=109982, modificationTime=1711473696000),\n",
       " FileInfo(path='dbfs:/FileStore/tables/pharma_df.csv/', name='pharma_df.csv/', size=0, modificationTime=0),\n",
       " FileInfo(path='dbfs:/FileStore/tables/ratings.csv', name='ratings.csv', size=2483723, modificationTime=1709730592000),\n",
       " FileInfo(path='dbfs:/FileStore/tables/steam_200k.csv', name='steam_200k.csv', size=8059447, modificationTime=1711874268000),\n",
       " FileInfo(path='dbfs:/FileStore/tables/test.json', name='test.json', size=17958, modificationTime=1706101873000),\n",
       " FileInfo(path='dbfs:/FileStore/tables/webpage/', name='webpage/', size=0, modificationTime=0),\n",
       " FileInfo(path='dbfs:/FileStore/tables/webpage.zip', name='webpage.zip', size=1582, modificationTime=1707310916000),\n",
       " FileInfo(path='dbfs:/FileStore/tables/webpage_files_all/', name='webpage_files_all/', size=0, modificationTime=0),\n",
       " FileInfo(path='dbfs:/FileStore/tables/webpage_files_jpg/', name='webpage_files_jpg/', size=0, modificationTime=0)]"
      ]
     },
     "execution_count": 7,
     "metadata": {},
     "output_type": "execute_result"
    }
   ],
   "source": [
    "# display clinicaltrial_year.csv files in DBFS\n",
    "dbutils.fs.ls(f\"FileStore/tables/\")"
   ]
  },
  {
   "cell_type": "markdown",
   "metadata": {
    "application/vnd.databricks.v1+cell": {
     "cellMetadata": {
      "byteLimit": 2048000,
      "rowLimit": 10000
     },
     "inputWidgets": {},
     "nuid": "f7fbbc31-5c7d-489b-9a50-1a26c9c329f2",
     "showTitle": false,
     "title": ""
    }
   },
   "source": [
    "## Data Preprocessing\n",
    "Please specify the year for analysis by changing the <b> \"year\" </b> variable in the cell below (\"Cmd 13\") to 2023, 2021 or 2020. <br>\n",
    "The Data preprocessing steps will run and then save a cleaned .csv file to DBFS for use in the DataFrame and SQL notebooks. <br>\n",
    "The end of the Data Preprocessing steps include a cell that will repeat these steps for the 2 years not specified in the <b> \"year\" </b> variable."
   ]
  },
  {
   "cell_type": "code",
   "execution_count": 0,
   "metadata": {
    "application/vnd.databricks.v1+cell": {
     "cellMetadata": {
      "byteLimit": 2048000,
      "rowLimit": 10000
     },
     "inputWidgets": {},
     "nuid": "47740b90-68be-4f60-96bf-b070e236d98e",
     "showTitle": false,
     "title": ""
    }
   },
   "outputs": [],
   "source": [
    "# set year for analysis (from 2020, 2021 or 2023)\n",
    "year = \"2023\""
   ]
  },
  {
   "cell_type": "code",
   "execution_count": 0,
   "metadata": {
    "application/vnd.databricks.v1+cell": {
     "cellMetadata": {
      "byteLimit": 2048000,
      "rowLimit": 10000
     },
     "inputWidgets": {},
     "nuid": "2c11775b-3d04-4d76-bb59-a5ee12b172d0",
     "showTitle": false,
     "title": ""
    }
   },
   "outputs": [],
   "source": [
    "# create RDD from original file\n",
    "rdd1 = sc.textFile(f\"/FileStore/tables/clinicaltrial_{year}.csv\")"
   ]
  },
  {
   "cell_type": "code",
   "execution_count": 0,
   "metadata": {
    "application/vnd.databricks.v1+cell": {
     "cellMetadata": {
      "byteLimit": 2048000,
      "rowLimit": 10000
     },
     "inputWidgets": {},
     "nuid": "7306fb0f-9dd0-4f66-ac43-00c7abb61a98",
     "showTitle": false,
     "title": ""
    }
   },
   "outputs": [
    {
     "output_type": "execute_result",
     "data": {
      "text/plain": [
       "483423"
      ]
     },
     "execution_count": 10,
     "metadata": {},
     "output_type": "execute_result"
    }
   ],
   "source": [
    "# number of lines in first RDD\n",
    "rdd1.count()"
   ]
  },
  {
   "cell_type": "code",
   "execution_count": 0,
   "metadata": {
    "application/vnd.databricks.v1+cell": {
     "cellMetadata": {
      "byteLimit": 2048000,
      "rowLimit": 10000
     },
     "inputWidgets": {},
     "nuid": "c9a237ca-18c6-433e-9a7e-a86cb0589e7b",
     "showTitle": false,
     "title": ""
    }
   },
   "outputs": [
    {
     "output_type": "execute_result",
     "data": {
      "text/plain": [
       "['\"Id\\tStudy Title\\tAcronym\\tStatus\\tConditions\\tInterventions\\tSponsor\\tCollaborators\\tEnrollment\\tFunder Type\\tType\\tStudy Design\\tStart\\tCompletion\",,,,,,,,,,,,,,,,,,,,,,,,,,,,,,,,,,,,,,,,,,,,,,,,,,,,,,,,,,,,,,,,,,,,,,,,,,,,,,,,,,,,,,,,,,,,,,,,,,,,,,,,,,,,,,,,,,,,,,,,,,,,,,,,,,,,,,,,,,,,,,,,,,,,,,,,,,,,,,,,,,,,,,,,,,,,,,,,,,,,,,,,,,,,,,,,,,,,,,,,,,,,,,,,,,',\n",
       " '\"NCT03630471\\tEffectiveness of a Problem-solving Intervention for Common Adolescent Mental Health Problems in India\\tPRIDE\\tCOMPLETED\\tMental Health Issue (E.G.\", Depression, Psychosis, Personality Disorder,\" Substance Abuse)\\tBEHAVIORAL: PRIDE \\'Step 1\\' problem-solving intervention|BEHAVIORAL: Enhanced usual care\\tSangath\\tHarvard Medical School (HMS and HSDM)|London School of Hygiene and Tropical Medicine\\t250.0\\tOTHER\\tINTERVENTIONAL\\tAllocation: RANDOMIZED|Intervention Model: PARALLEL|Masking: DOUBLE (INVESTIGATOR\",\" OUTCOMES_ASSESSOR)|Primary Purpose: TREATMENT\\t2018-08-20\\t2019-02-28\",,,,,,,,,,,,,,,,,,,,,,,,,,,,,,,,,,,,,,,,,,,,,,,,,,,,,,,,,,,,,,,,,,,,,,,,,,,,,,,,,,,,,,,,,,,,,,,,,,,,,,,,,,,,,,,,,,,,,,,,,,,,,,,,,,,,,,,,,,,,,,,,,,,,,,,,,,,,,,,,,,,,,,,,,,,,,,,,,,,,,,,,,,,,,,,,,,,,,,,,,,,,,']"
      ]
     },
     "execution_count": 11,
     "metadata": {},
     "output_type": "execute_result"
    }
   ],
   "source": [
    "# view first two lines for any processing required\n",
    "rdd1.take(2)"
   ]
  },
  {
   "cell_type": "code",
   "execution_count": 0,
   "metadata": {
    "application/vnd.databricks.v1+cell": {
     "cellMetadata": {
      "byteLimit": 2048000,
      "rowLimit": 10000
     },
     "inputWidgets": {},
     "nuid": "cc4bc874-9c84-43c3-aa89-3b1d291837d9",
     "showTitle": false,
     "title": ""
    }
   },
   "outputs": [
    {
     "output_type": "stream",
     "name": "stdout",
     "output_type": "stream",
     "text": [
      "\u001B[43mNote: you may need to restart the kernel using dbutils.library.restartPython() to use updated packages.\u001B[0m\nCollecting detect_delimiter\n  Downloading detect_delimiter-0.1.1-py3-none-any.whl (3.6 kB)\nInstalling collected packages: detect_delimiter\nSuccessfully installed detect_delimiter-0.1.1\n\u001B[43mNote: you may need to restart the kernel using dbutils.library.restartPython() to use updated packages.\u001B[0m\n"
     ]
    }
   ],
   "source": [
    "pip install detect_delimiter"
   ]
  },
  {
   "cell_type": "code",
   "execution_count": 0,
   "metadata": {
    "application/vnd.databricks.v1+cell": {
     "cellMetadata": {
      "byteLimit": 2048000,
      "rowLimit": 10000
     },
     "inputWidgets": {},
     "nuid": "9d607010-9033-4c81-8179-80166b64da2c",
     "showTitle": false,
     "title": ""
    }
   },
   "outputs": [
    {
     "output_type": "stream",
     "name": "stdout",
     "output_type": "stream",
     "text": [
      "The found delimiter is:\n"
     ]
    },
    {
     "output_type": "execute_result",
     "data": {
      "text/plain": [
       "'\\t'"
      ]
     },
     "execution_count": 13,
     "metadata": {},
     "output_type": "execute_result"
    }
   ],
   "source": [
    "# find delimiter of file using detect_delimiter library\n",
    "from detect_delimiter import detect\n",
    "\n",
    "print(\"The found delimiter is:\")\n",
    "delimiter = detect(rdd1.take(1)[0], default='\\t')\n",
    "delimiter"
   ]
  },
  {
   "cell_type": "code",
   "execution_count": 0,
   "metadata": {
    "application/vnd.databricks.v1+cell": {
     "cellMetadata": {
      "byteLimit": 2048000,
      "rowLimit": 10000
     },
     "inputWidgets": {},
     "nuid": "5227e8ba-aa2b-4f9c-ad27-11577a94063e",
     "showTitle": false,
     "title": ""
    }
   },
   "outputs": [],
   "source": [
    "# split first RDD by delimiter\n",
    "rdd2 = rdd1.map(lambda line: line.split(delimiter))"
   ]
  },
  {
   "cell_type": "code",
   "execution_count": 0,
   "metadata": {
    "application/vnd.databricks.v1+cell": {
     "cellMetadata": {
      "byteLimit": 2048000,
      "rowLimit": 10000
     },
     "inputWidgets": {},
     "nuid": "06213bb4-e07f-4706-91bd-0ecd21f58f1d",
     "showTitle": false,
     "title": ""
    }
   },
   "outputs": [
    {
     "output_type": "execute_result",
     "data": {
      "text/plain": [
       "[['\"Id',\n",
       "  'Study Title',\n",
       "  'Acronym',\n",
       "  'Status',\n",
       "  'Conditions',\n",
       "  'Interventions',\n",
       "  'Sponsor',\n",
       "  'Collaborators',\n",
       "  'Enrollment',\n",
       "  'Funder Type',\n",
       "  'Type',\n",
       "  'Study Design',\n",
       "  'Start',\n",
       "  'Completion\",,,,,,,,,,,,,,,,,,,,,,,,,,,,,,,,,,,,,,,,,,,,,,,,,,,,,,,,,,,,,,,,,,,,,,,,,,,,,,,,,,,,,,,,,,,,,,,,,,,,,,,,,,,,,,,,,,,,,,,,,,,,,,,,,,,,,,,,,,,,,,,,,,,,,,,,,,,,,,,,,,,,,,,,,,,,,,,,,,,,,,,,,,,,,,,,,,,,,,,,,,,,,,,,,,'],\n",
       " ['\"NCT03630471',\n",
       "  'Effectiveness of a Problem-solving Intervention for Common Adolescent Mental Health Problems in India',\n",
       "  'PRIDE',\n",
       "  'COMPLETED',\n",
       "  'Mental Health Issue (E.G.\", Depression, Psychosis, Personality Disorder,\" Substance Abuse)',\n",
       "  \"BEHAVIORAL: PRIDE 'Step 1' problem-solving intervention|BEHAVIORAL: Enhanced usual care\",\n",
       "  'Sangath',\n",
       "  'Harvard Medical School (HMS and HSDM)|London School of Hygiene and Tropical Medicine',\n",
       "  '250.0',\n",
       "  'OTHER',\n",
       "  'INTERVENTIONAL',\n",
       "  'Allocation: RANDOMIZED|Intervention Model: PARALLEL|Masking: DOUBLE (INVESTIGATOR\",\" OUTCOMES_ASSESSOR)|Primary Purpose: TREATMENT',\n",
       "  '2018-08-20',\n",
       "  '2019-02-28\",,,,,,,,,,,,,,,,,,,,,,,,,,,,,,,,,,,,,,,,,,,,,,,,,,,,,,,,,,,,,,,,,,,,,,,,,,,,,,,,,,,,,,,,,,,,,,,,,,,,,,,,,,,,,,,,,,,,,,,,,,,,,,,,,,,,,,,,,,,,,,,,,,,,,,,,,,,,,,,,,,,,,,,,,,,,,,,,,,,,,,,,,,,,,,,,,,,,,,,,,,,,,']]"
      ]
     },
     "execution_count": 15,
     "metadata": {},
     "output_type": "execute_result"
    }
   ],
   "source": [
    "# view first two lines of new RDD\n",
    "rdd2.take(2)"
   ]
  },
  {
   "cell_type": "code",
   "execution_count": 0,
   "metadata": {
    "application/vnd.databricks.v1+cell": {
     "cellMetadata": {
      "byteLimit": 2048000,
      "rowLimit": 10000
     },
     "inputWidgets": {},
     "nuid": "ef058fe3-bc68-41aa-9ca3-f70de66435d8",
     "showTitle": false,
     "title": ""
    }
   },
   "outputs": [],
   "source": [
    "# clean commas and quote marks from first and last items\n",
    "rdd3 = rdd2.map(lambda x: (x[0].strip(\"\\\"\"), *x[1:-1], x[-1].strip(\",\").strip(\"\\\"\")))"
   ]
  },
  {
   "cell_type": "code",
   "execution_count": 0,
   "metadata": {
    "application/vnd.databricks.v1+cell": {
     "cellMetadata": {
      "byteLimit": 2048000,
      "rowLimit": 10000
     },
     "inputWidgets": {},
     "nuid": "34778e93-dddf-4f47-9683-e3ce14db9c4f",
     "showTitle": false,
     "title": ""
    }
   },
   "outputs": [
    {
     "output_type": "execute_result",
     "data": {
      "text/plain": [
       "[('Id',\n",
       "  'Study Title',\n",
       "  'Acronym',\n",
       "  'Status',\n",
       "  'Conditions',\n",
       "  'Interventions',\n",
       "  'Sponsor',\n",
       "  'Collaborators',\n",
       "  'Enrollment',\n",
       "  'Funder Type',\n",
       "  'Type',\n",
       "  'Study Design',\n",
       "  'Start',\n",
       "  'Completion'),\n",
       " ('NCT03630471',\n",
       "  'Effectiveness of a Problem-solving Intervention for Common Adolescent Mental Health Problems in India',\n",
       "  'PRIDE',\n",
       "  'COMPLETED',\n",
       "  'Mental Health Issue (E.G.\", Depression, Psychosis, Personality Disorder,\" Substance Abuse)',\n",
       "  \"BEHAVIORAL: PRIDE 'Step 1' problem-solving intervention|BEHAVIORAL: Enhanced usual care\",\n",
       "  'Sangath',\n",
       "  'Harvard Medical School (HMS and HSDM)|London School of Hygiene and Tropical Medicine',\n",
       "  '250.0',\n",
       "  'OTHER',\n",
       "  'INTERVENTIONAL',\n",
       "  'Allocation: RANDOMIZED|Intervention Model: PARALLEL|Masking: DOUBLE (INVESTIGATOR\",\" OUTCOMES_ASSESSOR)|Primary Purpose: TREATMENT',\n",
       "  '2018-08-20',\n",
       "  '2019-02-28'),\n",
       " ('NCT05992571',\n",
       "  'Oral Ketone Monoester Supplementation and Resting-state Brain Connectivity',\n",
       "  '',\n",
       "  'RECRUITING',\n",
       "  'Cerebrovascular Function|Cognition',\n",
       "  'OTHER: Placebo|DIETARY_SUPPLEMENT: β-OHB',\n",
       "  'McMaster University',\n",
       "  'Alzheimer\\'s Society of Brant\", Haldimand Norfolk,\" Hamilton Halton',\n",
       "  '30.0',\n",
       "  'OTHER',\n",
       "  'INTERVENTIONAL',\n",
       "  'Allocation: RANDOMIZED|Intervention Model: CROSSOVER|Masking: TRIPLE (PARTICIPANT\", INVESTIGATOR,\" OUTCOMES_ASSESSOR)|Primary Purpose: BASIC_SCIENCE',\n",
       "  '2023-10-25',\n",
       "  '2024-08')]"
      ]
     },
     "execution_count": 17,
     "metadata": {},
     "output_type": "execute_result"
    }
   ],
   "source": [
    "# view first 3 items of cleaned RDD\n",
    "rdd3.take(3)"
   ]
  },
  {
   "cell_type": "markdown",
   "metadata": {
    "application/vnd.databricks.v1+cell": {
     "cellMetadata": {
      "byteLimit": 2048000,
      "rowLimit": 10000
     },
     "inputWidgets": {},
     "nuid": "17ec6fce-0794-4894-8bb5-bb70cf715a71",
     "showTitle": false,
     "title": ""
    }
   },
   "source": [
    "Check length of each item in RDD"
   ]
  },
  {
   "cell_type": "code",
   "execution_count": 0,
   "metadata": {
    "application/vnd.databricks.v1+cell": {
     "cellMetadata": {
      "byteLimit": 2048000,
      "rowLimit": 10000
     },
     "inputWidgets": {},
     "nuid": "108fff96-6461-45ea-a544-423e8607e247",
     "showTitle": false,
     "title": ""
    }
   },
   "outputs": [
    {
     "output_type": "execute_result",
     "data": {
      "text/plain": [
       "14"
      ]
     },
     "execution_count": 18,
     "metadata": {},
     "output_type": "execute_result"
    }
   ],
   "source": [
    "# find average length of first 500 items in RDD\n",
    "total_item_length = 0\n",
    "for item in rdd3.take(500):\n",
    "    total_item_length += len(item)\n",
    "average_item_length = round(total_item_length / 500)\n",
    "average_item_length"
   ]
  },
  {
   "cell_type": "code",
   "execution_count": 0,
   "metadata": {
    "application/vnd.databricks.v1+cell": {
     "cellMetadata": {
      "byteLimit": 2048000,
      "rowLimit": 10000
     },
     "inputWidgets": {},
     "nuid": "79c0a0eb-c9b8-46d6-a958-e9f3d2939dcb",
     "showTitle": false,
     "title": ""
    }
   },
   "outputs": [],
   "source": [
    "# create RDD with index to check for any items with different lengths than the average length\n",
    "indexed_rdd = rdd3.zipWithIndex()"
   ]
  },
  {
   "cell_type": "code",
   "execution_count": 0,
   "metadata": {
    "application/vnd.databricks.v1+cell": {
     "cellMetadata": {
      "byteLimit": 2048000,
      "rowLimit": 10000
     },
     "inputWidgets": {},
     "nuid": "98661d17-a636-4949-8df9-eccf1d98c682",
     "showTitle": false,
     "title": ""
    }
   },
   "outputs": [],
   "source": [
    "# function to find different length lines with indices\n",
    "def find_different_length_items_with_index(rdd, length):\n",
    "    different_items = []\n",
    "    for item in rdd.collect():\n",
    "        if len(item[0]) != length:\n",
    "            different_items.append(item)\n",
    "        else:\n",
    "            continue\n",
    "    return different_items"
   ]
  },
  {
   "cell_type": "code",
   "execution_count": 0,
   "metadata": {
    "application/vnd.databricks.v1+cell": {
     "cellMetadata": {
      "byteLimit": 2048000,
      "rowLimit": 10000
     },
     "inputWidgets": {},
     "nuid": "09595c83-e853-43ee-9017-610c19b92d31",
     "showTitle": false,
     "title": ""
    }
   },
   "outputs": [
    {
     "output_type": "execute_result",
     "data": {
      "text/plain": [
       "[(('NCT00146315',\n",
       "   'ESCAP: Supervised Exercise for Patients With Coronary Heart Disease in the Primary Care Setting',\n",
       "   '',\n",
       "   'COMPLETED',\n",
       "   'Coronary Heart Disease',\n",
       "   'BEHAVIORAL: Supervised exercise on a stationary bicycle, 3-5 days a week|BEHAVIORAL: Secondary prevention program for coronary heart disease',\n",
       "   'Basque Health Service',\n",
       "   'Preventive Services and Health Promotion Research Network|Castilla-La Mancha Health Service|Castilla-León Health Service|Dalt Sant Joan primary care center (Balears Islans Health Service)|Public Health Service of C'),\n",
       "  293056),\n",
       " (('taluña|Public Health Service of Madrid|Public Health Service of Galicia|Cantabria Health Service',\n",
       "   '97.0',\n",
       "   'OTHER_GOV',\n",
       "   'INTERVENTIONAL',\n",
       "   'Allocation: RANDOMIZED|Intervention Model: PARALLEL|Masking: SINGLE (OUTCOMES_ASSESSOR)|Primary Purpose: TREATMENT',\n",
       "   '2005-01',\n",
       "   '2010-06'),\n",
       "  293057)]"
      ]
     },
     "execution_count": 21,
     "metadata": {},
     "output_type": "execute_result"
    }
   ],
   "source": [
    "# find any items with different lengths with their indices\n",
    "different_items = find_different_length_items_with_index(indexed_rdd, average_item_length)\n",
    "different_items"
   ]
  },
  {
   "cell_type": "code",
   "execution_count": 0,
   "metadata": {
    "application/vnd.databricks.v1+cell": {
     "cellMetadata": {
      "byteLimit": 2048000,
      "rowLimit": 10000
     },
     "inputWidgets": {},
     "nuid": "fe27e765-0188-46fa-b219-c930362a27bc",
     "showTitle": false,
     "title": ""
    }
   },
   "outputs": [],
   "source": [
    "# function for finding any items that should be merged together\n",
    "def find_and_merge_items(item_list_with_indices, required_item_length):\n",
    "    # check if item lengths are equal to the average item length plus 1 (due to both items sharing field, adding 1 to total item length)\n",
    "    if (len(item_list_with_indices[0][0]) + len(item_list_with_indices[1][0])) != (required_item_length + 1):\n",
    "        print(\"The items do not have lengths equal to the average item length plus 1\")\n",
    "    else:\n",
    "    # check if the different items have consecutive indices, merge together if yes\n",
    "        i = 0\n",
    "        while i < (len(item_list_with_indices)-1):\n",
    "            if item_list_with_indices[i+1][-1]-(item_list_with_indices[i][-1]) == 1:\n",
    "                # merge items together and remove their indices\n",
    "                merged_items_no_index = item_list_with_indices[i][0] + item_list_with_indices[i+1][0]\n",
    "                return merged_items_no_index\n",
    "            i += 1"
   ]
  },
  {
   "cell_type": "code",
   "execution_count": 0,
   "metadata": {
    "application/vnd.databricks.v1+cell": {
     "cellMetadata": {
      "byteLimit": 2048000,
      "rowLimit": 10000
     },
     "inputWidgets": {},
     "nuid": "3959232e-e97f-442c-8719-7bdfc3fcc5b3",
     "showTitle": false,
     "title": ""
    }
   },
   "outputs": [
    {
     "output_type": "stream",
     "name": "stdout",
     "output_type": "stream",
     "text": [
      "2 items with different length were found, merged into one item and added to 2023 RDD. final_rdd variable created\n"
     ]
    }
   ],
   "source": [
    "# if there are different length items, merge them together and add to main RDD\n",
    "if len(different_items) == 0:\n",
    "    print(f\"{year} RDD contains no items with different length, final_rdd variable created\")\n",
    "    final_rdd = rdd3\n",
    "else:\n",
    "    # form tuple of any items to be merged\n",
    "    merged_tuple = find_and_merge_items(different_items, average_item_length)\n",
    "\n",
    "    # merge the shared value in tuple to create new item with same length as average length in RDD\n",
    "    new_item = [*merged_tuple[0:7], merged_tuple[7] + merged_tuple[8], *merged_tuple[9:]]\n",
    "\n",
    "    # create RDD from the new item\n",
    "    new_item_rdd = sc.parallelize(new_item, 1).glom()\n",
    "\n",
    "    # remove the different length items from indexed RDD\n",
    "    filtered_indexed_rdd = indexed_rdd.filter(lambda x: (x[1] != different_items[0][1] and x[1] != different_items[1][1]))\n",
    "\n",
    "    # remove index from indexed RDD\n",
    "    filtered_rdd = filtered_indexed_rdd.map(lambda x: x[0])\n",
    "\n",
    "    # add the new item to the filtered RDD\n",
    "    final_rdd = filtered_rdd.union(new_item_rdd)\n",
    "    print(f\"{len(different_items)} items with different length were found, merged into one item and added to {year} RDD. final_rdd variable created\")"
   ]
  },
  {
   "cell_type": "code",
   "execution_count": 0,
   "metadata": {
    "application/vnd.databricks.v1+cell": {
     "cellMetadata": {
      "byteLimit": 2048000,
      "rowLimit": 10000
     },
     "inputWidgets": {},
     "nuid": "8ca90719-d495-419b-8520-82a76766d99d",
     "showTitle": false,
     "title": ""
    }
   },
   "outputs": [
    {
     "output_type": "execute_result",
     "data": {
      "text/plain": [
       "[('Id',\n",
       "  'Study Title',\n",
       "  'Acronym',\n",
       "  'Status',\n",
       "  'Conditions',\n",
       "  'Interventions',\n",
       "  'Sponsor',\n",
       "  'Collaborators',\n",
       "  'Enrollment',\n",
       "  'Funder Type',\n",
       "  'Type',\n",
       "  'Study Design',\n",
       "  'Start',\n",
       "  'Completion'),\n",
       " ('NCT03630471',\n",
       "  'Effectiveness of a Problem-solving Intervention for Common Adolescent Mental Health Problems in India',\n",
       "  'PRIDE',\n",
       "  'COMPLETED',\n",
       "  'Mental Health Issue (E.G.\", Depression, Psychosis, Personality Disorder,\" Substance Abuse)',\n",
       "  \"BEHAVIORAL: PRIDE 'Step 1' problem-solving intervention|BEHAVIORAL: Enhanced usual care\",\n",
       "  'Sangath',\n",
       "  'Harvard Medical School (HMS and HSDM)|London School of Hygiene and Tropical Medicine',\n",
       "  '250.0',\n",
       "  'OTHER',\n",
       "  'INTERVENTIONAL',\n",
       "  'Allocation: RANDOMIZED|Intervention Model: PARALLEL|Masking: DOUBLE (INVESTIGATOR\",\" OUTCOMES_ASSESSOR)|Primary Purpose: TREATMENT',\n",
       "  '2018-08-20',\n",
       "  '2019-02-28'),\n",
       " ('NCT05992571',\n",
       "  'Oral Ketone Monoester Supplementation and Resting-state Brain Connectivity',\n",
       "  '',\n",
       "  'RECRUITING',\n",
       "  'Cerebrovascular Function|Cognition',\n",
       "  'OTHER: Placebo|DIETARY_SUPPLEMENT: β-OHB',\n",
       "  'McMaster University',\n",
       "  'Alzheimer\\'s Society of Brant\", Haldimand Norfolk,\" Hamilton Halton',\n",
       "  '30.0',\n",
       "  'OTHER',\n",
       "  'INTERVENTIONAL',\n",
       "  'Allocation: RANDOMIZED|Intervention Model: CROSSOVER|Masking: TRIPLE (PARTICIPANT\", INVESTIGATOR,\" OUTCOMES_ASSESSOR)|Primary Purpose: BASIC_SCIENCE',\n",
       "  '2023-10-25',\n",
       "  '2024-08'),\n",
       " ('NCT00237471',\n",
       "  'Impact of Tight Glycaemic Control in Acute Myocardial Infarction',\n",
       "  '',\n",
       "  'TERMINATED',\n",
       "  'Myocardial Infarct|Hyperglycemia',\n",
       "  'DRUG: Insulin (tight blood glucose control)',\n",
       "  'Melbourne Health',\n",
       "  'National Health and Medical Research Council\",\" Australia|Bristol-Myers Squibb',\n",
       "  '40.0',\n",
       "  'OTHER',\n",
       "  'INTERVENTIONAL',\n",
       "  'Allocation: RANDOMIZED|Intervention Model: PARALLEL|Masking: NONE|Primary Purpose: TREATMENT',\n",
       "  '2005-10',\n",
       "  '2006-05'),\n",
       " ('NCT03820271',\n",
       "  'New Prognostic Predictive Models of Mortality of Decompensated Cirrhotic Patients Waiting for Liver Transplantation',\n",
       "  'SUPERMELD',\n",
       "  'RECRUITING',\n",
       "  'Decompensated Cirrhosis|Liver Transplantation',\n",
       "  'OTHER: SuperMELD',\n",
       "  'Assistance Publique - Hôpitaux de Paris',\n",
       "  '',\n",
       "  '500.0',\n",
       "  'OTHER',\n",
       "  'INTERVENTIONAL',\n",
       "  'Allocation: NA|Intervention Model: SINGLE_GROUP|Masking: NONE|Primary Purpose: OTHER',\n",
       "  '2020-10-01',\n",
       "  '2023-10-01')]"
      ]
     },
     "execution_count": 24,
     "metadata": {},
     "output_type": "execute_result"
    }
   ],
   "source": [
    "final_rdd.take(5)"
   ]
  },
  {
   "cell_type": "code",
   "execution_count": 0,
   "metadata": {
    "application/vnd.databricks.v1+cell": {
     "cellMetadata": {
      "byteLimit": 2048000,
      "rowLimit": 10000
     },
     "inputWidgets": {},
     "nuid": "db734e8a-ffce-4986-a13a-4631cf8b023c",
     "showTitle": false,
     "title": ""
    }
   },
   "outputs": [],
   "source": [
    "# save RDD as csv file for use in DF and SQL notebooks\n",
    "df = final_rdd.toDF()\n",
    "df.write.mode(\"overwrite\").csv(f\"/FileStore/tables/df_{year}.csv\")"
   ]
  },
  {
   "cell_type": "markdown",
   "metadata": {
    "application/vnd.databricks.v1+cell": {
     "cellMetadata": {
      "byteLimit": 2048000,
      "rowLimit": 10000
     },
     "inputWidgets": {},
     "nuid": "6a4aa9cd-7a5d-43fa-bce9-096a0ad2a831",
     "showTitle": false,
     "title": ""
    }
   },
   "source": [
    "- Repeat the above preprocessing steps for the 2 years not specified in the <b> \"year\" </b> variable\n",
    "- The <b> \"year\" </b> variable will still be used for the analysis steps in the remainder of this notebook"
   ]
  },
  {
   "cell_type": "code",
   "execution_count": 0,
   "metadata": {
    "application/vnd.databricks.v1+cell": {
     "cellMetadata": {
      "byteLimit": 2048000,
      "rowLimit": 10000
     },
     "inputWidgets": {},
     "nuid": "fbfe0faa-0355-4d57-ba60-3a981018e8b9",
     "showTitle": false,
     "title": ""
    }
   },
   "outputs": [
    {
     "output_type": "stream",
     "name": "stdout",
     "output_type": "stream",
     "text": [
      "2020 RDD contains no items with different length, final_rdd_1 variable created and saved as .csv.\n2021 RDD contains no items with different length, final_rdd_1a variable created and saved as .csv.\n"
     ]
    }
   ],
   "source": [
    "# repeat above preprocessing steps for the other 2 years, to create csv files for use in DF and SQL notebooks\n",
    "year_list.remove(year)\n",
    "\n",
    "rdd_1 = sc.textFile(f\"/FileStore/tables/clinicaltrial_{year_list[0]}.csv\")\n",
    "delimiter_1 = detect(rdd_1.take(1)[0], default='\\t')\n",
    "rdd_2 = rdd_1.map(lambda line: line.split(delimiter_1))\n",
    "rdd_3 = rdd_2.map(lambda x: (x[0].strip(\"\\\"\"), *x[1:-1], x[-1].strip(\",\").strip(\"\\\"\")))\n",
    "total_item_length_1 = 0\n",
    "for item in rdd_3.take(500):\n",
    "    total_item_length_1 += len(item)\n",
    "average_item_length_1 = round(total_item_length_1 / 500)\n",
    "indexed_rdd_1 = rdd_3.zipWithIndex()\n",
    "different_items_1 = find_different_length_items_with_index(indexed_rdd_1, average_item_length_1)\n",
    "if len(different_items_1) == 0:\n",
    "    print(f\"{year_list[0]} RDD contains no items with different length, final_rdd_1 variable created and saved as .csv.\")\n",
    "    final_rdd_1 = rdd_3\n",
    "else:\n",
    "    merged_tuple_1 = find_and_merge_items(different_items_1, average_item_length_1)\n",
    "    new_item_1 = [*merged_tuple_1[0:7], merged_tuple_1[7] + merged_tuple_1[8], *merged_tuple_1[9:]]\n",
    "    new_item_rdd_1 = sc.parallelize(new_item_1, 1).glom()\n",
    "    filtered_indexed_rdd_1 = indexed_rdd_1.filter(lambda x: (x[1] != different_items_1[0][1] and x[1] != different_items_1[1][1]))\n",
    "    filtered_rdd_1 = filtered_indexed_rdd_1.map(lambda x: x[0])\n",
    "    final_rdd_1 = filtered_rdd_1.union(new_item_rdd_1)\n",
    "    print(f\"{len(different_items_1)} items with different length were found, merged into one item and added to {year_list[0]} RDD. final_rdd_1 variable created and saved as .csv.\")\n",
    "# save RDD as csv file for use in DF and SQL notebooks\n",
    "df_1 = final_rdd_1.toDF()\n",
    "df_1.write.mode(\"overwrite\").csv(f\"/FileStore/tables/df_{year_list[0]}.csv\")\n",
    "\n",
    "rdd_1a = sc.textFile(f\"/FileStore/tables/clinicaltrial_{year_list[1]}.csv\")\n",
    "delimiter_1a = detect(rdd_1a.take(1)[0], default='\\t')\n",
    "rdd_2a = rdd_1a.map(lambda line: line.split(delimiter_1a))\n",
    "rdd_3a = rdd_2a.map(lambda x: (x[0].strip(\"\\\"\"), *x[1:-1], x[-1].strip(\",\").strip(\"\\\"\")))\n",
    "total_item_length_1a = 0\n",
    "for item in rdd_3a.take(500):\n",
    "    total_item_length_1a += len(item)\n",
    "average_item_length_1a = round(total_item_length_1a / 500)\n",
    "indexed_rdd_1a = rdd_3a.zipWithIndex()\n",
    "different_items_1a = find_different_length_items_with_index(indexed_rdd_1a, average_item_length_1a)\n",
    "if len(different_items_1a) == 0:\n",
    "    print(f\"{year_list[1]} RDD contains no items with different length, final_rdd_1a variable created and saved as .csv.\")\n",
    "    final_rdd_1a = rdd_3a\n",
    "else:\n",
    "    merged_tuple_1a = find_and_merge_items(different_items_1a, average_item_length_1a)\n",
    "    new_item_1a = [*merged_tuple_1a[0:7], merged_tuple_1a[7] + merged_tuple_1a[8], *merged_tuple_1a[9:]]\n",
    "    new_item_rdd_1a = sc.parallelize(new_item_1a, 1).glom()\n",
    "    filtered_indexed_rdd_1a = indexed_rdd_1a.filter(lambda x: (x[1] != different_items_1a[0][1] and x[1] != different_items_1a[1][1]))\n",
    "    filtered_rdd_1a = filtered_indexed_rdd_1a.map(lambda x: x[0])\n",
    "    final_rdd_1a = filtered_rdd_1a.union(new_item_rdd_1a)\n",
    "    print(f\"{len(different_items_1a)} items with different length were found, merged into one item and added to {year_list[1]} RDD. final_rdd_1a variable created and saved as .csv.\")\n",
    "# save RDD as csv file for use in DF and SQL notebooks\n",
    "df_1a = final_rdd_1a.toDF()\n",
    "df_1a.write.mode(\"overwrite\").csv(f\"/FileStore/tables/df_{year_list[1]}.csv\")"
   ]
  },
  {
   "cell_type": "markdown",
   "metadata": {
    "application/vnd.databricks.v1+cell": {
     "cellMetadata": {
      "byteLimit": 2048000,
      "rowLimit": 10000
     },
     "inputWidgets": {},
     "nuid": "1cbb8bca-8077-4a31-b8a9-a1a8109fd9d3",
     "showTitle": false,
     "title": ""
    }
   },
   "source": [
    "#### Unzip Pharma Dataset"
   ]
  },
  {
   "cell_type": "code",
   "execution_count": 0,
   "metadata": {
    "application/vnd.databricks.v1+cell": {
     "cellMetadata": {
      "byteLimit": 2048000,
      "rowLimit": 10000
     },
     "inputWidgets": {},
     "nuid": "be53f656-cb52-4b1b-8764-ebd39ffbb4c6",
     "showTitle": false,
     "title": ""
    }
   },
   "outputs": [
    {
     "output_type": "stream",
     "name": "stderr",
     "output_type": "stream",
     "text": [
      "rm: cannot remove '/tmp/pharma': No such file or directory\nrm: cannot remove '/tmp/pharma.zip': No such file or directory\n"
     ]
    }
   ],
   "source": [
    "%sh\n",
    "rm -r /tmp/pharma\n",
    "rm /tmp/pharma.zip"
   ]
  },
  {
   "cell_type": "code",
   "execution_count": 0,
   "metadata": {
    "application/vnd.databricks.v1+cell": {
     "cellMetadata": {
      "byteLimit": 2048000,
      "rowLimit": 10000
     },
     "inputWidgets": {},
     "nuid": "43b66781-58a6-4017-8487-ef32eef78503",
     "showTitle": false,
     "title": ""
    }
   },
   "outputs": [
    {
     "output_type": "execute_result",
     "data": {
      "text/plain": [
       "True"
      ]
     },
     "execution_count": 28,
     "metadata": {},
     "output_type": "execute_result"
    }
   ],
   "source": [
    "# clean DBFS of pharma files that the notebook needs to create again\n",
    "dbutils.fs.rm(\"/FileStore/tables/pharma\", True)\n",
    "dbutils.fs.rm(\"/FileStore/tables/pharma.csv\", True)"
   ]
  },
  {
   "cell_type": "code",
   "execution_count": 0,
   "metadata": {
    "application/vnd.databricks.v1+cell": {
     "cellMetadata": {
      "byteLimit": 2048000,
      "rowLimit": 10000
     },
     "inputWidgets": {},
     "nuid": "58e385c2-77f5-4380-b16d-f29d47e17941",
     "showTitle": false,
     "title": ""
    }
   },
   "outputs": [
    {
     "output_type": "execute_result",
     "data": {
      "text/plain": [
       "True"
      ]
     },
     "execution_count": 29,
     "metadata": {},
     "output_type": "execute_result"
    }
   ],
   "source": [
    "# copy zip file to /tmp/ to unzip\n",
    "dbutils.fs.cp(f\"/FileStore/tables/pharma.zip\", \"file:/tmp/\")\n",
    "\n",
    "# in next UNIX shell block, unzip file in /tmp/ folder"
   ]
  },
  {
   "cell_type": "code",
   "execution_count": 0,
   "metadata": {
    "application/vnd.databricks.v1+cell": {
     "cellMetadata": {
      "byteLimit": 2048000,
      "rowLimit": 10000
     },
     "inputWidgets": {},
     "nuid": "1811607f-29c6-4033-b6ce-306f8e21fa9b",
     "showTitle": false,
     "title": ""
    }
   },
   "outputs": [
    {
     "output_type": "stream",
     "name": "stdout",
     "output_type": "stream",
     "text": [
      "Archive:  /tmp/pharma.zip\n  inflating: /tmp/pharma.csv         \nRserv\nRtmpGgAoZb\nchauffeur-daemon-params\nchauffeur-daemon.pid\nchauffeur-env.sh\nclinicaltrial_2020.zip\nclinicaltrial_2021.zip\nclinicaltrial_2023.zip\ncustom-spark.conf\ndriver-daemon-params\ndriver-daemon.pid\ndriver-env.sh\nhsperfdata_root\npharma.csv\npharma.zip\npython_lsp_logs\nsystemd-private-942e55cf9b8445619b950f9ebec20877-systemd-logind.service-QyVlKr\nsystemd-private-942e55cf9b8445619b950f9ebec20877-systemd-resolved.service-xpNV0o\ntmp.3sXYgVcAAa\n"
     ]
    }
   ],
   "source": [
    "%sh\n",
    "unzip -d /tmp /tmp/pharma.zip\n",
    "ls /tmp"
   ]
  },
  {
   "cell_type": "code",
   "execution_count": 0,
   "metadata": {
    "application/vnd.databricks.v1+cell": {
     "cellMetadata": {
      "byteLimit": 2048000,
      "rowLimit": 10000
     },
     "inputWidgets": {},
     "nuid": "88b2107b-960c-415d-939c-4250aa7e737f",
     "showTitle": false,
     "title": ""
    }
   },
   "outputs": [
    {
     "output_type": "execute_result",
     "data": {
      "text/plain": [
       "True"
      ]
     },
     "execution_count": 31,
     "metadata": {},
     "output_type": "execute_result"
    }
   ],
   "source": [
    "# move unzipped file to DBFS\n",
    "dbutils.fs.mv(\"file:/tmp/pharma.csv\", \"FileStore/tables/pharma.csv\", True)"
   ]
  },
  {
   "cell_type": "code",
   "execution_count": 0,
   "metadata": {
    "application/vnd.databricks.v1+cell": {
     "cellMetadata": {
      "byteLimit": 2048000,
      "rowLimit": 10000
     },
     "inputWidgets": {},
     "nuid": "080f09c2-ab6b-465f-88fc-7a788560f17a",
     "showTitle": false,
     "title": ""
    }
   },
   "outputs": [
    {
     "output_type": "execute_result",
     "data": {
      "text/plain": [
       "[FileInfo(path='dbfs:/FileStore/tables/Occupancy_Detection_Data.csv', name='Occupancy_Detection_Data.csv', size=50968, modificationTime=1709126517000),\n",
       " FileInfo(path='dbfs:/FileStore/tables/TS021_2021_2.csv', name='TS021_2021_2.csv', size=497239, modificationTime=1710944683000),\n",
       " FileInfo(path='dbfs:/FileStore/tables/account-models/', name='account-models/', size=0, modificationTime=0),\n",
       " FileInfo(path='dbfs:/FileStore/tables/accounts/', name='accounts/', size=0, modificationTime=0),\n",
       " FileInfo(path='dbfs:/FileStore/tables/activations/', name='activations/', size=0, modificationTime=0),\n",
       " FileInfo(path='dbfs:/FileStore/tables/activations.zip', name='activations.zip', size=8411369, modificationTime=1706705270000),\n",
       " FileInfo(path='dbfs:/FileStore/tables/clinicaltrial_2020.csv', name='clinicaltrial_2020.csv', size=46318151, modificationTime=1714471682000),\n",
       " FileInfo(path='dbfs:/FileStore/tables/clinicaltrial_2020.zip', name='clinicaltrial_2020.zip', size=10599182, modificationTime=1711380183000),\n",
       " FileInfo(path='dbfs:/FileStore/tables/clinicaltrial_2021.csv', name='clinicaltrial_2021.csv', size=50359696, modificationTime=1714471687000),\n",
       " FileInfo(path='dbfs:/FileStore/tables/clinicaltrial_2021.zip', name='clinicaltrial_2021.zip', size=11508457, modificationTime=1711380184000),\n",
       " FileInfo(path='dbfs:/FileStore/tables/clinicaltrial_2023.csv', name='clinicaltrial_2023.csv', size=292436366, modificationTime=1714471704000),\n",
       " FileInfo(path='dbfs:/FileStore/tables/clinicaltrial_2023.zip', name='clinicaltrial_2023.zip', size=57166668, modificationTime=1711379386000),\n",
       " FileInfo(path='dbfs:/FileStore/tables/df_2020.csv/', name='df_2020.csv/', size=0, modificationTime=0),\n",
       " FileInfo(path='dbfs:/FileStore/tables/df_2021.csv/', name='df_2021.csv/', size=0, modificationTime=0),\n",
       " FileInfo(path='dbfs:/FileStore/tables/df_2023.csv/', name='df_2023.csv/', size=0, modificationTime=0),\n",
       " FileInfo(path='dbfs:/FileStore/tables/ethnic.csv/', name='ethnic.csv/', size=0, modificationTime=0),\n",
       " FileInfo(path='dbfs:/FileStore/tables/flood-1.csv', name='flood-1.csv', size=128984, modificationTime=1707928131000),\n",
       " FileInfo(path='dbfs:/FileStore/tables/flood-2.csv', name='flood-2.csv', size=128984, modificationTime=1707928198000),\n",
       " FileInfo(path='dbfs:/FileStore/tables/flood.csv', name='flood.csv', size=128984, modificationTime=1707920996000),\n",
       " FileInfo(path='dbfs:/FileStore/tables/iotstream.zip', name='iotstream.zip', size=43891, modificationTime=1708524398000),\n",
       " FileInfo(path='dbfs:/FileStore/tables/iotstreams/', name='iotstreams/', size=0, modificationTime=0),\n",
       " FileInfo(path='dbfs:/FileStore/tables/logs/', name='logs/', size=0, modificationTime=0),\n",
       " FileInfo(path='dbfs:/FileStore/tables/lucy_ratings.csv', name='lucy_ratings.csv', size=11357, modificationTime=1709809682000),\n",
       " FileInfo(path='dbfs:/FileStore/tables/movies.csv', name='movies.csv', size=494431, modificationTime=1709730591000),\n",
       " FileInfo(path='dbfs:/FileStore/tables/my_game_playtime.csv', name='my_game_playtime.csv', size=205543, modificationTime=1711992870000),\n",
       " FileInfo(path='dbfs:/FileStore/tables/myratings2.csv', name='myratings2.csv', size=10774, modificationTime=1709808634000),\n",
       " FileInfo(path='dbfs:/FileStore/tables/myratings_1_.csv', name='myratings_1_.csv', size=10725, modificationTime=1709730592000),\n",
       " FileInfo(path='dbfs:/FileStore/tables/pharma.csv', name='pharma.csv', size=678999, modificationTime=1714471850000),\n",
       " FileInfo(path='dbfs:/FileStore/tables/pharma.zip', name='pharma.zip', size=109982, modificationTime=1711473696000),\n",
       " FileInfo(path='dbfs:/FileStore/tables/pharma_df.csv/', name='pharma_df.csv/', size=0, modificationTime=0),\n",
       " FileInfo(path='dbfs:/FileStore/tables/ratings.csv', name='ratings.csv', size=2483723, modificationTime=1709730592000),\n",
       " FileInfo(path='dbfs:/FileStore/tables/steam_200k.csv', name='steam_200k.csv', size=8059447, modificationTime=1711874268000),\n",
       " FileInfo(path='dbfs:/FileStore/tables/test.json', name='test.json', size=17958, modificationTime=1706101873000),\n",
       " FileInfo(path='dbfs:/FileStore/tables/webpage/', name='webpage/', size=0, modificationTime=0),\n",
       " FileInfo(path='dbfs:/FileStore/tables/webpage.zip', name='webpage.zip', size=1582, modificationTime=1707310916000),\n",
       " FileInfo(path='dbfs:/FileStore/tables/webpage_files_all/', name='webpage_files_all/', size=0, modificationTime=0),\n",
       " FileInfo(path='dbfs:/FileStore/tables/webpage_files_jpg/', name='webpage_files_jpg/', size=0, modificationTime=0)]"
      ]
     },
     "execution_count": 32,
     "metadata": {},
     "output_type": "execute_result"
    }
   ],
   "source": [
    "# display DBFS containing pharma files\n",
    "dbutils.fs.ls(f\"FileStore/tables/\")"
   ]
  },
  {
   "cell_type": "markdown",
   "metadata": {
    "application/vnd.databricks.v1+cell": {
     "cellMetadata": {
      "byteLimit": 2048000,
      "rowLimit": 10000
     },
     "inputWidgets": {},
     "nuid": "109e0a3c-5aea-4c20-a0fd-53cfc5ab20da",
     "showTitle": false,
     "title": ""
    }
   },
   "source": [
    "### Pharma Dataset Preprocessing\n",
    "These preprocessing steps only need to be run once for the pharma dataset to be converted to RDD and saved as .csv to DBFS for use in the DataFrame and SQL notebooks."
   ]
  },
  {
   "cell_type": "code",
   "execution_count": 0,
   "metadata": {
    "application/vnd.databricks.v1+cell": {
     "cellMetadata": {
      "byteLimit": 2048000,
      "rowLimit": 10000
     },
     "inputWidgets": {},
     "nuid": "2c8f5f5d-94bd-4b83-a258-0a310c8ce056",
     "showTitle": false,
     "title": ""
    }
   },
   "outputs": [],
   "source": [
    "pharma_file_path = \"/FileStore/tables/pharma.csv\"\n",
    "\n",
    "# create RDD from pharma file\n",
    "pharma_rdd = sc.textFile(pharma_file_path)"
   ]
  },
  {
   "cell_type": "code",
   "execution_count": 0,
   "metadata": {
    "application/vnd.databricks.v1+cell": {
     "cellMetadata": {
      "byteLimit": 2048000,
      "rowLimit": 10000
     },
     "inputWidgets": {},
     "nuid": "27fdc6b4-a752-49b6-a568-7de39d8294c9",
     "showTitle": false,
     "title": ""
    }
   },
   "outputs": [
    {
     "output_type": "execute_result",
     "data": {
      "text/plain": [
       "['\"Company\",\"Parent_Company\",\"Penalty_Amount\",\"Subtraction_From_Penalty\",\"Penalty_Amount_Adjusted_For_Eliminating_Multiple_Counting\",\"Penalty_Year\",\"Penalty_Date\",\"Offense_Group\",\"Primary_Offense\",\"Secondary_Offense\",\"Description\",\"Level_of_Government\",\"Action_Type\",\"Agency\",\"Civil/Criminal\",\"Prosecution_Agreement\",\"Court\",\"Case_ID\",\"Private_Litigation_Case_Title\",\"Lawsuit_Resolution\",\"Facility_State\",\"City\",\"Address\",\"Zip\",\"NAICS_Code\",\"NAICS_Translation\",\"HQ_Country_of_Parent\",\"HQ_State_of_Parent\",\"Ownership_Structure\",\"Parent_Company_Stock_Ticker\",\"Major_Industry_of_Parent\",\"Specific_Industry_of_Parent\",\"Info_Source\",\"Notes\"',\n",
       " '\"Abbott Laboratories\",\"Abbott Laboratories\",\"$5,475,000\",\"$0\",\"$5,475,000\",\"2013\",\"20131227\",\"government-contracting-related offenses\",\"False Claims Act and related\",\"kickbacks and bribery\",\"Abbott Laboratories agreed to $5.475 million to resolve allegations that it violated the False Claims Act by paying kickbacks to induce doctors to implant the company\\'s carotid, biliary and peripheral vascular products.\",\"federal\",\"agency action\",\"Justice Department Civil Division\",\"civil\",\"\",\"\",\"\",\"\",\"\",\"\",\"\",\"\",\"\",\"\",\"\",\"USA\",\"Illinois\",\"publicly traded\",\"ABT\",\"pharmaceuticals\",\"pharmaceuticals\",\"https://www.justice.gov/opa/pr/abbott-laboratories-pays-us-5475-million-settle-claims-company-paid-kickbacks-physicians\",\"\"',\n",
       " '\"Abbott Laboratories Inc.\",\"AbbVie\",\"$1,500,000,000\",\"$0\",\"$1,500,000,000\",\"2012\",\"20120507\",\"healthcare-related offenses\",\"off-label or unapproved promotion of medical products\",\"\",\"Global Health Care Company Abbott Laboratories Inc. has pleaded guilty and agreed to pay $1.5 billion to resolve its criminal and civil liability arising from the company\\'s unlawful promotion of the prescription drug Depakote for uses not approved as safe and effective by the Food and Drug Administration. The resolution - the second largest payment by a drug company - includes a criminal fine and forfeiture totaling $700 million and civil settlements with the federal government and the states totaling $800 million. Abbott also will be subject to court-supervised probation and reporting obligations for Abbotts CEO and Board of Directors.\",\"federal\",\"agency action\",\"Food and Drug Administration referral to the Justice Department\",\"civil and criminal\",\"\",\"\",\"\",\"\",\"\",\"\",\"\",\"\",\"\",\"\",\"\",\"USA\",\"Illinois\",\"publicly traded\",\"ABBV\",\"pharmaceuticals\",\"pharmaceuticals\",\"http://www.justice.gov/opa/pr/abbott-labs-pay-15-billion-resolve-criminal-civil-investigations-label-promotion-depakote\",\"\"',\n",
       " '\"Abbott Laboratories Inc.\",\"AbbVie\",\"$126,500,000\",\"$0\",\"$126,500,000\",\"2010\",\"20101207\",\"government-contracting-related offenses\",\"False Claims Act and related\",\"\",\"Abbott Laboratories Inc., B. Braun Medical Inc. and Roxane Laboratories Inc. n/k/a Boehringer Ingelheim Roxane Inc. and affiliated entities agreed to pay $421 million to settle False Claims Act allegations, that they engaged in a scheme to report false and inflated prices for numerous pharmaceutical products knowing that federal healthcare programs relied on those reported prices to set payment rates.\",\"federal\",\"agency action\",\"Justice Department Civil Division\",\"civil\",\"\",\"\",\"\",\"\",\"\",\"\",\"\",\"\",\"\",\"\",\"\",\"USA\",\"Illinois\",\"publicly traded\",\"ABBV\",\"pharmaceuticals\",\"pharmaceuticals\",\"https://www.justice.gov/opa/pr/pharmaceutical-manufacturers-pay-4212-million-settle-false-claims-act-cases\",\"\"',\n",
       " '\"Abbott Laboratories Puerto Rico, Inc.\",\"Abbott Laboratories\",\"$49,045\",\"$0\",\"$49,045\",\"2009\",\"20090305\",\"employment-related offenses\",\"wage and hour violation\",\"Fair Labor Standards Act\",\"\",\"federal\",\"agency action\",\"Labor Department Wage and Hour Division\",\"civil\",\"\",\"\",\"1527129\",\"\",\"\",\"Puerto Rico\",\"San Juan\",\"\",\"\",\"423450\",\"423450: Medical, Dental, and Hospital Equipment and Supplies Merchant Wholesalers\",\"USA\",\"Illinois\",\"publicly traded\",\"ABT\",\"pharmaceuticals\",\"pharmaceuticals\",\"March 7, 2017 download of a dataset posted by the Wage and Hour Division at https://enforcedata.dol.gov/views/data_summary.php\",\"Date and year are the Findings End Date in the dataset posted by the Wage and Hour Division, which does not provide case opening or closing dates. The company name is the Legal Name provided by the dataset unless that field is blank, in which case the Trade Name is used. The dataset provides only one address and does not indicate whether it is the company headquarters address or the establishment address. The penalty amount is the total of civil monetary penalties and mandated back wages. The original dataset provides a breakdown.\"']"
      ]
     },
     "execution_count": 34,
     "metadata": {},
     "output_type": "execute_result"
    }
   ],
   "source": [
    "pharma_rdd.take(5)"
   ]
  },
  {
   "cell_type": "code",
   "execution_count": 0,
   "metadata": {
    "application/vnd.databricks.v1+cell": {
     "cellMetadata": {
      "byteLimit": 2048000,
      "rowLimit": 10000
     },
     "inputWidgets": {},
     "nuid": "7668f37b-30d5-412e-bf5a-7802becd72b0",
     "showTitle": false,
     "title": ""
    }
   },
   "outputs": [
    {
     "output_type": "execute_result",
     "data": {
      "text/plain": [
       "[['\"Company\",\"Parent_Company\",\"Penalty_Amount\",\"Subtraction_From_Penalty\",\"Penalty_Amount_Adjusted_For_Eliminating_Multiple_Counting\",\"Penalty_Year\",\"Penalty_Date\",\"Offense_Group\",\"Primary_Offense\",\"Secondary_Offense\",\"Description\",\"Level_of_Government\",\"Action_Type\",\"Agency\",\"Civil/Criminal\",\"Prosecution_Agreement\",\"Court\",\"Case_ID\",\"Private_Litigation_Case_Title\",\"Lawsuit_Resolution\",\"Facility_State\",\"City\",\"Address\",\"Zip\",\"NAICS_Code\",\"NAICS_Translation\",\"HQ_Country_of_Parent\",\"HQ_State_of_Parent\",\"Ownership_Structure\",\"Parent_Company_Stock_Ticker\",\"Major_Industry_of_Parent\",\"Specific_Industry_of_Parent\",\"Info_Source\",\"Notes\"'],\n",
       " ['\"Abbott Laboratories\",\"Abbott Laboratories\",\"$5,475,000\",\"$0\",\"$5,475,000\",\"2013\",\"20131227\",\"government-contracting-related offenses\",\"False Claims Act and related\",\"kickbacks and bribery\",\"Abbott Laboratories agreed to $5.475 million to resolve allegations that it violated the False Claims Act by paying kickbacks to induce doctors to implant the company\\'s carotid, biliary and peripheral vascular products.\",\"federal\",\"agency action\",\"Justice Department Civil Division\",\"civil\",\"\",\"\",\"\",\"\",\"\",\"\",\"\",\"\",\"\",\"\",\"\",\"USA\",\"Illinois\",\"publicly traded\",\"ABT\",\"pharmaceuticals\",\"pharmaceuticals\",\"https://www.justice.gov/opa/pr/abbott-laboratories-pays-us-5475-million-settle-claims-company-paid-kickbacks-physicians\",\"\"'],\n",
       " ['\"Abbott Laboratories Inc.\",\"AbbVie\",\"$1,500,000,000\",\"$0\",\"$1,500,000,000\",\"2012\",\"20120507\",\"healthcare-related offenses\",\"off-label or unapproved promotion of medical products\",\"\",\"Global Health Care Company Abbott Laboratories Inc. has pleaded guilty and agreed to pay $1.5 billion to resolve its criminal and civil liability arising from the company\\'s unlawful promotion of the prescription drug Depakote for uses not approved as safe and effective by the Food and Drug Administration. The resolution - the second largest payment by a drug company - includes a criminal fine and forfeiture totaling $700 million and civil settlements with the federal government and the states totaling $800 million. Abbott also will be subject to court-supervised probation and reporting obligations for Abbotts CEO and Board of Directors.\",\"federal\",\"agency action\",\"Food and Drug Administration referral to the Justice Department\",\"civil and criminal\",\"\",\"\",\"\",\"\",\"\",\"\",\"\",\"\",\"\",\"\",\"\",\"USA\",\"Illinois\",\"publicly traded\",\"ABBV\",\"pharmaceuticals\",\"pharmaceuticals\",\"http://www.justice.gov/opa/pr/abbott-labs-pay-15-billion-resolve-criminal-civil-investigations-label-promotion-depakote\",\"\"'],\n",
       " ['\"Abbott Laboratories Inc.\",\"AbbVie\",\"$126,500,000\",\"$0\",\"$126,500,000\",\"2010\",\"20101207\",\"government-contracting-related offenses\",\"False Claims Act and related\",\"\",\"Abbott Laboratories Inc., B. Braun Medical Inc. and Roxane Laboratories Inc. n/k/a Boehringer Ingelheim Roxane Inc. and affiliated entities agreed to pay $421 million to settle False Claims Act allegations, that they engaged in a scheme to report false and inflated prices for numerous pharmaceutical products knowing that federal healthcare programs relied on those reported prices to set payment rates.\",\"federal\",\"agency action\",\"Justice Department Civil Division\",\"civil\",\"\",\"\",\"\",\"\",\"\",\"\",\"\",\"\",\"\",\"\",\"\",\"USA\",\"Illinois\",\"publicly traded\",\"ABBV\",\"pharmaceuticals\",\"pharmaceuticals\",\"https://www.justice.gov/opa/pr/pharmaceutical-manufacturers-pay-4212-million-settle-false-claims-act-cases\",\"\"'],\n",
       " ['\"Abbott Laboratories Puerto Rico, Inc.\",\"Abbott Laboratories\",\"$49,045\",\"$0\",\"$49,045\",\"2009\",\"20090305\",\"employment-related offenses\",\"wage and hour violation\",\"Fair Labor Standards Act\",\"\",\"federal\",\"agency action\",\"Labor Department Wage and Hour Division\",\"civil\",\"\",\"\",\"1527129\",\"\",\"\",\"Puerto Rico\",\"San Juan\",\"\",\"\",\"423450\",\"423450: Medical, Dental, and Hospital Equipment and Supplies Merchant Wholesalers\",\"USA\",\"Illinois\",\"publicly traded\",\"ABT\",\"pharmaceuticals\",\"pharmaceuticals\",\"March 7, 2017 download of a dataset posted by the Wage and Hour Division at https://enforcedata.dol.gov/views/data_summary.php\",\"Date and year are the Findings End Date in the dataset posted by the Wage and Hour Division, which does not provide case opening or closing dates. The company name is the Legal Name provided by the dataset unless that field is blank, in which case the Trade Name is used. The dataset provides only one address and does not indicate whether it is the company headquarters address or the establishment address. The penalty amount is the total of civil monetary penalties and mandated back wages. The original dataset provides a breakdown.\"']]"
      ]
     },
     "execution_count": 35,
     "metadata": {},
     "output_type": "execute_result"
    }
   ],
   "source": [
    "# split RDD by line delimiter\n",
    "pharma_rdd2 = pharma_rdd.map(lambda x: x.split(\"\\n\"))\n",
    "pharma_rdd2.take(5)"
   ]
  },
  {
   "cell_type": "markdown",
   "metadata": {
    "application/vnd.databricks.v1+cell": {
     "cellMetadata": {
      "byteLimit": 2048000,
      "rowLimit": 10000
     },
     "inputWidgets": {},
     "nuid": "29912bea-c6ac-45b6-874f-538afd9c6a96",
     "showTitle": false,
     "title": ""
    }
   },
   "source": [
    "- each element contains values enclosed in double quote marks (\"\"), then separated by commas\n",
    "- will use regular expressions to split each element using the double quote marks"
   ]
  },
  {
   "cell_type": "code",
   "execution_count": 0,
   "metadata": {
    "application/vnd.databricks.v1+cell": {
     "cellMetadata": {
      "byteLimit": 2048000,
      "rowLimit": 10000
     },
     "inputWidgets": {},
     "nuid": "ab8635f3-7b9c-42b4-adc8-016038d21cab",
     "showTitle": false,
     "title": ""
    }
   },
   "outputs": [
    {
     "output_type": "execute_result",
     "data": {
      "text/plain": [
       "[['Company',\n",
       "  'Parent_Company',\n",
       "  'Penalty_Amount',\n",
       "  'Subtraction_From_Penalty',\n",
       "  'Penalty_Amount_Adjusted_For_Eliminating_Multiple_Counting',\n",
       "  'Penalty_Year',\n",
       "  'Penalty_Date',\n",
       "  'Offense_Group',\n",
       "  'Primary_Offense',\n",
       "  'Secondary_Offense',\n",
       "  'Description',\n",
       "  'Level_of_Government',\n",
       "  'Action_Type',\n",
       "  'Agency',\n",
       "  'Civil/Criminal',\n",
       "  'Prosecution_Agreement',\n",
       "  'Court',\n",
       "  'Case_ID',\n",
       "  'Private_Litigation_Case_Title',\n",
       "  'Lawsuit_Resolution',\n",
       "  'Facility_State',\n",
       "  'City',\n",
       "  'Address',\n",
       "  'Zip',\n",
       "  'NAICS_Code',\n",
       "  'NAICS_Translation',\n",
       "  'HQ_Country_of_Parent',\n",
       "  'HQ_State_of_Parent',\n",
       "  'Ownership_Structure',\n",
       "  'Parent_Company_Stock_Ticker',\n",
       "  'Major_Industry_of_Parent',\n",
       "  'Specific_Industry_of_Parent',\n",
       "  'Info_Source',\n",
       "  'Notes'],\n",
       " ['Abbott Laboratories',\n",
       "  'Abbott Laboratories',\n",
       "  '$5,475,000',\n",
       "  '$0',\n",
       "  '$5,475,000',\n",
       "  '2013',\n",
       "  '20131227',\n",
       "  'government-contracting-related offenses',\n",
       "  'False Claims Act and related',\n",
       "  'kickbacks and bribery',\n",
       "  \"Abbott Laboratories agreed to $5.475 million to resolve allegations that it violated the False Claims Act by paying kickbacks to induce doctors to implant the company's carotid, biliary and peripheral vascular products.\",\n",
       "  'federal',\n",
       "  'agency action',\n",
       "  'Justice Department Civil Division',\n",
       "  'civil',\n",
       "  '',\n",
       "  '',\n",
       "  '',\n",
       "  '',\n",
       "  '',\n",
       "  '',\n",
       "  '',\n",
       "  '',\n",
       "  '',\n",
       "  '',\n",
       "  '',\n",
       "  'USA',\n",
       "  'Illinois',\n",
       "  'publicly traded',\n",
       "  'ABT',\n",
       "  'pharmaceuticals',\n",
       "  'pharmaceuticals',\n",
       "  'https://www.justice.gov/opa/pr/abbott-laboratories-pays-us-5475-million-settle-claims-company-paid-kickbacks-physicians',\n",
       "  ''],\n",
       " ['Abbott Laboratories Inc.',\n",
       "  'AbbVie',\n",
       "  '$1,500,000,000',\n",
       "  '$0',\n",
       "  '$1,500,000,000',\n",
       "  '2012',\n",
       "  '20120507',\n",
       "  'healthcare-related offenses',\n",
       "  'off-label or unapproved promotion of medical products',\n",
       "  '',\n",
       "  \"Global Health Care Company Abbott Laboratories Inc. has pleaded guilty and agreed to pay $1.5 billion to resolve its criminal and civil liability arising from the company's unlawful promotion of the prescription drug Depakote for uses not approved as safe and effective by the Food and Drug Administration. The resolution - the second largest payment by a drug company - includes a criminal fine and forfeiture totaling $700 million and civil settlements with the federal government and the states totaling $800 million. Abbott also will be subject to court-supervised probation and reporting obligations for Abbotts CEO and Board of Directors.\",\n",
       "  'federal',\n",
       "  'agency action',\n",
       "  'Food and Drug Administration referral to the Justice Department',\n",
       "  'civil and criminal',\n",
       "  '',\n",
       "  '',\n",
       "  '',\n",
       "  '',\n",
       "  '',\n",
       "  '',\n",
       "  '',\n",
       "  '',\n",
       "  '',\n",
       "  '',\n",
       "  '',\n",
       "  'USA',\n",
       "  'Illinois',\n",
       "  'publicly traded',\n",
       "  'ABBV',\n",
       "  'pharmaceuticals',\n",
       "  'pharmaceuticals',\n",
       "  'http://www.justice.gov/opa/pr/abbott-labs-pay-15-billion-resolve-criminal-civil-investigations-label-promotion-depakote',\n",
       "  ''],\n",
       " ['Abbott Laboratories Inc.',\n",
       "  'AbbVie',\n",
       "  '$126,500,000',\n",
       "  '$0',\n",
       "  '$126,500,000',\n",
       "  '2010',\n",
       "  '20101207',\n",
       "  'government-contracting-related offenses',\n",
       "  'False Claims Act and related',\n",
       "  '',\n",
       "  'Abbott Laboratories Inc., B. Braun Medical Inc. and Roxane Laboratories Inc. n/k/a Boehringer Ingelheim Roxane Inc. and affiliated entities agreed to pay $421 million to settle False Claims Act allegations, that they engaged in a scheme to report false and inflated prices for numerous pharmaceutical products knowing that federal healthcare programs relied on those reported prices to set payment rates.',\n",
       "  'federal',\n",
       "  'agency action',\n",
       "  'Justice Department Civil Division',\n",
       "  'civil',\n",
       "  '',\n",
       "  '',\n",
       "  '',\n",
       "  '',\n",
       "  '',\n",
       "  '',\n",
       "  '',\n",
       "  '',\n",
       "  '',\n",
       "  '',\n",
       "  '',\n",
       "  'USA',\n",
       "  'Illinois',\n",
       "  'publicly traded',\n",
       "  'ABBV',\n",
       "  'pharmaceuticals',\n",
       "  'pharmaceuticals',\n",
       "  'https://www.justice.gov/opa/pr/pharmaceutical-manufacturers-pay-4212-million-settle-false-claims-act-cases',\n",
       "  ''],\n",
       " ['Abbott Laboratories Puerto Rico, Inc.',\n",
       "  'Abbott Laboratories',\n",
       "  '$49,045',\n",
       "  '$0',\n",
       "  '$49,045',\n",
       "  '2009',\n",
       "  '20090305',\n",
       "  'employment-related offenses',\n",
       "  'wage and hour violation',\n",
       "  'Fair Labor Standards Act',\n",
       "  '',\n",
       "  'federal',\n",
       "  'agency action',\n",
       "  'Labor Department Wage and Hour Division',\n",
       "  'civil',\n",
       "  '',\n",
       "  '',\n",
       "  '1527129',\n",
       "  '',\n",
       "  '',\n",
       "  'Puerto Rico',\n",
       "  'San Juan',\n",
       "  '',\n",
       "  '',\n",
       "  '423450',\n",
       "  '423450: Medical, Dental, and Hospital Equipment and Supplies Merchant Wholesalers',\n",
       "  'USA',\n",
       "  'Illinois',\n",
       "  'publicly traded',\n",
       "  'ABT',\n",
       "  'pharmaceuticals',\n",
       "  'pharmaceuticals',\n",
       "  'March 7, 2017 download of a dataset posted by the Wage and Hour Division at https://enforcedata.dol.gov/views/data_summary.php',\n",
       "  'Date and year are the Findings End Date in the dataset posted by the Wage and Hour Division, which does not provide case opening or closing dates. The company name is the Legal Name provided by the dataset unless that field is blank, in which case the Trade Name is used. The dataset provides only one address and does not indicate whether it is the company headquarters address or the establishment address. The penalty amount is the total of civil monetary penalties and mandated back wages. The original dataset provides a breakdown.']]"
      ]
     },
     "execution_count": 36,
     "metadata": {},
     "output_type": "execute_result"
    }
   ],
   "source": [
    "# split RDD using regex of double quote marks\n",
    "import re\n",
    "pharma_rdd3 = pharma_rdd2.map(lambda x: (re.findall(r'\"(.*?)\"', x[0])))\n",
    "pharma_rdd3.take(5)"
   ]
  },
  {
   "cell_type": "code",
   "execution_count": 0,
   "metadata": {
    "application/vnd.databricks.v1+cell": {
     "cellMetadata": {
      "byteLimit": 2048000,
      "rowLimit": 10000
     },
     "inputWidgets": {},
     "nuid": "4982fa2e-d5dd-4831-aaa8-dbcac29fc663",
     "showTitle": false,
     "title": ""
    }
   },
   "outputs": [
    {
     "output_type": "execute_result",
     "data": {
      "text/plain": [
       "[('Company',\n",
       "  'Parent_Company',\n",
       "  'Penalty_Amount',\n",
       "  'Subtraction_From_Penalty',\n",
       "  'Penalty_Amount_Adjusted_For_Eliminating_Multiple_Counting',\n",
       "  'Penalty_Year',\n",
       "  'Penalty_Date',\n",
       "  'Offense_Group',\n",
       "  'Primary_Offense',\n",
       "  'Secondary_Offense',\n",
       "  'Description',\n",
       "  'Level_of_Government',\n",
       "  'Action_Type',\n",
       "  'Agency',\n",
       "  'Civil/Criminal',\n",
       "  'Prosecution_Agreement',\n",
       "  'Court',\n",
       "  'Case_ID',\n",
       "  'Private_Litigation_Case_Title',\n",
       "  'Lawsuit_Resolution',\n",
       "  'Facility_State',\n",
       "  'City',\n",
       "  'Address',\n",
       "  'Zip',\n",
       "  'NAICS_Code',\n",
       "  'NAICS_Translation',\n",
       "  'HQ_Country_of_Parent',\n",
       "  'HQ_State_of_Parent',\n",
       "  'Ownership_Structure',\n",
       "  'Parent_Company_Stock_Ticker',\n",
       "  'Major_Industry_of_Parent',\n",
       "  'Specific_Industry_of_Parent',\n",
       "  'Info_Source',\n",
       "  'Notes'),\n",
       " ('Abbott Laboratories',\n",
       "  'Abbott Laboratories',\n",
       "  '$5,475,000',\n",
       "  '$0',\n",
       "  '$5,475,000',\n",
       "  '2013',\n",
       "  '20131227',\n",
       "  'government-contracting-related offenses',\n",
       "  'False Claims Act and related',\n",
       "  'kickbacks and bribery',\n",
       "  \"Abbott Laboratories agreed to $5.475 million to resolve allegations that it violated the False Claims Act by paying kickbacks to induce doctors to implant the company's carotid, biliary and peripheral vascular products.\",\n",
       "  'federal',\n",
       "  'agency action',\n",
       "  'Justice Department Civil Division',\n",
       "  'civil',\n",
       "  '',\n",
       "  '',\n",
       "  '',\n",
       "  '',\n",
       "  '',\n",
       "  '',\n",
       "  '',\n",
       "  '',\n",
       "  '',\n",
       "  '',\n",
       "  '',\n",
       "  'USA',\n",
       "  'Illinois',\n",
       "  'publicly traded',\n",
       "  'ABT',\n",
       "  'pharmaceuticals',\n",
       "  'pharmaceuticals',\n",
       "  'https://www.justice.gov/opa/pr/abbott-laboratories-pays-us-5475-million-settle-claims-company-paid-kickbacks-physicians',\n",
       "  ''),\n",
       " ('Abbott Laboratories Inc.',\n",
       "  'AbbVie',\n",
       "  '$1,500,000,000',\n",
       "  '$0',\n",
       "  '$1,500,000,000',\n",
       "  '2012',\n",
       "  '20120507',\n",
       "  'healthcare-related offenses',\n",
       "  'off-label or unapproved promotion of medical products',\n",
       "  '',\n",
       "  \"Global Health Care Company Abbott Laboratories Inc. has pleaded guilty and agreed to pay $1.5 billion to resolve its criminal and civil liability arising from the company's unlawful promotion of the prescription drug Depakote for uses not approved as safe and effective by the Food and Drug Administration. The resolution - the second largest payment by a drug company - includes a criminal fine and forfeiture totaling $700 million and civil settlements with the federal government and the states totaling $800 million. Abbott also will be subject to court-supervised probation and reporting obligations for Abbotts CEO and Board of Directors.\",\n",
       "  'federal',\n",
       "  'agency action',\n",
       "  'Food and Drug Administration referral to the Justice Department',\n",
       "  'civil and criminal',\n",
       "  '',\n",
       "  '',\n",
       "  '',\n",
       "  '',\n",
       "  '',\n",
       "  '',\n",
       "  '',\n",
       "  '',\n",
       "  '',\n",
       "  '',\n",
       "  '',\n",
       "  'USA',\n",
       "  'Illinois',\n",
       "  'publicly traded',\n",
       "  'ABBV',\n",
       "  'pharmaceuticals',\n",
       "  'pharmaceuticals',\n",
       "  'http://www.justice.gov/opa/pr/abbott-labs-pay-15-billion-resolve-criminal-civil-investigations-label-promotion-depakote',\n",
       "  ''),\n",
       " ('Abbott Laboratories Inc.',\n",
       "  'AbbVie',\n",
       "  '$126,500,000',\n",
       "  '$0',\n",
       "  '$126,500,000',\n",
       "  '2010',\n",
       "  '20101207',\n",
       "  'government-contracting-related offenses',\n",
       "  'False Claims Act and related',\n",
       "  '',\n",
       "  'Abbott Laboratories Inc., B. Braun Medical Inc. and Roxane Laboratories Inc. n/k/a Boehringer Ingelheim Roxane Inc. and affiliated entities agreed to pay $421 million to settle False Claims Act allegations, that they engaged in a scheme to report false and inflated prices for numerous pharmaceutical products knowing that federal healthcare programs relied on those reported prices to set payment rates.',\n",
       "  'federal',\n",
       "  'agency action',\n",
       "  'Justice Department Civil Division',\n",
       "  'civil',\n",
       "  '',\n",
       "  '',\n",
       "  '',\n",
       "  '',\n",
       "  '',\n",
       "  '',\n",
       "  '',\n",
       "  '',\n",
       "  '',\n",
       "  '',\n",
       "  '',\n",
       "  'USA',\n",
       "  'Illinois',\n",
       "  'publicly traded',\n",
       "  'ABBV',\n",
       "  'pharmaceuticals',\n",
       "  'pharmaceuticals',\n",
       "  'https://www.justice.gov/opa/pr/pharmaceutical-manufacturers-pay-4212-million-settle-false-claims-act-cases',\n",
       "  ''),\n",
       " ('Abbott Laboratories Puerto Rico, Inc.',\n",
       "  'Abbott Laboratories',\n",
       "  '$49,045',\n",
       "  '$0',\n",
       "  '$49,045',\n",
       "  '2009',\n",
       "  '20090305',\n",
       "  'employment-related offenses',\n",
       "  'wage and hour violation',\n",
       "  'Fair Labor Standards Act',\n",
       "  '',\n",
       "  'federal',\n",
       "  'agency action',\n",
       "  'Labor Department Wage and Hour Division',\n",
       "  'civil',\n",
       "  '',\n",
       "  '',\n",
       "  '1527129',\n",
       "  '',\n",
       "  '',\n",
       "  'Puerto Rico',\n",
       "  'San Juan',\n",
       "  '',\n",
       "  '',\n",
       "  '423450',\n",
       "  '423450: Medical, Dental, and Hospital Equipment and Supplies Merchant Wholesalers',\n",
       "  'USA',\n",
       "  'Illinois',\n",
       "  'publicly traded',\n",
       "  'ABT',\n",
       "  'pharmaceuticals',\n",
       "  'pharmaceuticals',\n",
       "  'March 7, 2017 download of a dataset posted by the Wage and Hour Division at https://enforcedata.dol.gov/views/data_summary.php',\n",
       "  'Date and year are the Findings End Date in the dataset posted by the Wage and Hour Division, which does not provide case opening or closing dates. The company name is the Legal Name provided by the dataset unless that field is blank, in which case the Trade Name is used. The dataset provides only one address and does not indicate whether it is the company headquarters address or the establishment address. The penalty amount is the total of civil monetary penalties and mandated back wages. The original dataset provides a breakdown.')]"
      ]
     },
     "execution_count": 37,
     "metadata": {},
     "output_type": "execute_result"
    }
   ],
   "source": [
    "# unpack element lists\n",
    "pharma_rdd4 = pharma_rdd3.map(lambda x: (x[0], *x[1:-1], x[-1]))\n",
    "pharma_rdd4.take(5)"
   ]
  },
  {
   "cell_type": "code",
   "execution_count": 0,
   "metadata": {
    "application/vnd.databricks.v1+cell": {
     "cellMetadata": {
      "byteLimit": 2048000,
      "rowLimit": 10000
     },
     "inputWidgets": {},
     "nuid": "57332844-7fc0-475f-af59-331656ed1ab7",
     "showTitle": false,
     "title": ""
    }
   },
   "outputs": [
    {
     "output_type": "stream",
     "name": "stdout",
     "output_type": "stream",
     "text": [
      "+--------------------+\n|               value|\n+--------------------+\n|      Parent_Company|\n| Abbott Laboratories|\n|              AbbVie|\n|              AbbVie|\n| Abbott Laboratories|\n|   Johnson & Johnson|\n| Abbott Laboratories|\n| Abbott Laboratories|\n|   Johnson & Johnson|\n|   Johnson & Johnson|\n| Abbott Laboratories|\n|              AbbVie|\n|              AbbVie|\n|              Pfizer|\n|              Pfizer|\n|Bristol-Myers Squibb|\n|               Amgen|\n|               Amgen|\n|               Amgen|\n|Amneal Pharmaceut...|\n+--------------------+\nonly showing top 20 rows\n\n"
     ]
    }
   ],
   "source": [
    "# save RDD as csv file for use in DF and SQL notebooks\n",
    "from pyspark.sql.types import StringType\n",
    "companies_df = pharma_rdd4.map(lambda x: x[1]).toDF(StringType())\n",
    "companies_df.show()\n",
    "companies_df.write.csv(\"/FileStore/tables/companies_df.csv\")"
   ]
  },
  {
   "cell_type": "markdown",
   "metadata": {
    "application/vnd.databricks.v1+cell": {
     "cellMetadata": {
      "byteLimit": 2048000,
      "rowLimit": 10000
     },
     "inputWidgets": {},
     "nuid": "e5dc8393-dcc9-4fd8-a81e-aa92694bc62e",
     "showTitle": false,
     "title": ""
    }
   },
   "source": [
    "### Question 1\n",
    "How many distinct studies are in the dataset?"
   ]
  },
  {
   "cell_type": "code",
   "execution_count": 0,
   "metadata": {
    "application/vnd.databricks.v1+cell": {
     "cellMetadata": {
      "byteLimit": 2048000,
      "rowLimit": 10000
     },
     "inputWidgets": {},
     "nuid": "702dffc6-1ba0-47c1-b5be-8a26fa30e418",
     "showTitle": false,
     "title": ""
    }
   },
   "outputs": [
    {
     "output_type": "execute_result",
     "data": {
      "text/plain": [
       "['Id', 'NCT03630471', 'NCT05992571', 'NCT00237471', 'NCT03820271']"
      ]
     },
     "execution_count": 39,
     "metadata": {},
     "output_type": "execute_result"
    }
   ],
   "source": [
    "# create RDD of Id only\n",
    "id_rdd = final_rdd.map(lambda x: x[0])\n",
    "id_rdd.take(5)"
   ]
  },
  {
   "cell_type": "code",
   "execution_count": 0,
   "metadata": {
    "application/vnd.databricks.v1+cell": {
     "cellMetadata": {
      "byteLimit": 2048000,
      "rowLimit": 10000
     },
     "inputWidgets": {},
     "nuid": "cd3f8794-b825-41c8-992a-38c85f4d3ff9",
     "showTitle": false,
     "title": ""
    }
   },
   "outputs": [
    {
     "output_type": "execute_result",
     "data": {
      "text/plain": [
       "['NCT03630471', 'NCT05992571', 'NCT00237471', 'NCT03820271', 'NCT06229171']"
      ]
     },
     "execution_count": 40,
     "metadata": {},
     "output_type": "execute_result"
    }
   ],
   "source": [
    "# filter out the 'Id' header value\n",
    "id_rdd2 = id_rdd.filter(lambda x: x != 'Id')\n",
    "id_rdd2.take(5)"
   ]
  },
  {
   "cell_type": "code",
   "execution_count": 0,
   "metadata": {
    "application/vnd.databricks.v1+cell": {
     "cellMetadata": {
      "byteLimit": 2048000,
      "rowLimit": 10000
     },
     "inputWidgets": {},
     "nuid": "668e9858-4b30-43e9-8022-99d62340ab4c",
     "showTitle": false,
     "title": ""
    }
   },
   "outputs": [
    {
     "output_type": "execute_result",
     "data": {
      "text/plain": [
       "[('NCT03630471', 1),\n",
       " ('NCT05992571', 1),\n",
       " ('NCT00237471', 1),\n",
       " ('NCT03820271', 1),\n",
       " ('NCT06229171', 1)]"
      ]
     },
     "execution_count": 41,
     "metadata": {},
     "output_type": "execute_result"
    }
   ],
   "source": [
    "# pair rdd of id column\n",
    "id_pair_rdd = id_rdd2.map(lambda x: (x, 1))\n",
    "id_pair_rdd.take(5)"
   ]
  },
  {
   "cell_type": "code",
   "execution_count": 0,
   "metadata": {
    "application/vnd.databricks.v1+cell": {
     "cellMetadata": {
      "byteLimit": 2048000,
      "rowLimit": 10000
     },
     "inputWidgets": {},
     "nuid": "d6dcb02b-df47-4f33-b5af-10621b85907b",
     "showTitle": false,
     "title": ""
    }
   },
   "outputs": [
    {
     "output_type": "execute_result",
     "data": {
      "text/plain": [
       "[('NCT02633371', 1),\n",
       " ('NCT04784871', 1),\n",
       " ('NCT05900271', 1),\n",
       " ('NCT05807971', 1),\n",
       " ('NCT02083471', 1)]"
      ]
     },
     "execution_count": 42,
     "metadata": {},
     "output_type": "execute_result"
    }
   ],
   "source": [
    "# reduce by key to check for duplicate id numbers\n",
    "id_rdd_reduced = id_pair_rdd.reduceByKey(lambda a, b: a + b)\n",
    "id_rdd_reduced.take(5)"
   ]
  },
  {
   "cell_type": "code",
   "execution_count": 0,
   "metadata": {
    "application/vnd.databricks.v1+cell": {
     "cellMetadata": {
      "byteLimit": 2048000,
      "rowLimit": 10000
     },
     "inputWidgets": {},
     "nuid": "6d3a105d-db98-4054-9b6e-19666484b5c0",
     "showTitle": false,
     "title": ""
    }
   },
   "outputs": [
    {
     "output_type": "execute_result",
     "data": {
      "text/plain": [
       "483421"
      ]
     },
     "execution_count": 43,
     "metadata": {},
     "output_type": "execute_result"
    }
   ],
   "source": [
    "# number of unique IDs in RDD\n",
    "id_rdd_reduced.count()"
   ]
  },
  {
   "cell_type": "code",
   "execution_count": 0,
   "metadata": {
    "application/vnd.databricks.v1+cell": {
     "cellMetadata": {
      "byteLimit": 2048000,
      "rowLimit": 10000
     },
     "inputWidgets": {},
     "nuid": "31ce58cb-a92f-41dd-af8e-fa2c876032ef",
     "showTitle": false,
     "title": ""
    }
   },
   "outputs": [
    {
     "output_type": "execute_result",
     "data": {
      "text/plain": [
       "483421"
      ]
     },
     "execution_count": 44,
     "metadata": {},
     "output_type": "execute_result"
    }
   ],
   "source": [
    "# double check number of unique IDs in RDD\n",
    "distinct_id_rdd = id_rdd2.distinct()\n",
    "distinct_id_rdd.count()"
   ]
  },
  {
   "cell_type": "code",
   "execution_count": 0,
   "metadata": {
    "application/vnd.databricks.v1+cell": {
     "cellMetadata": {
      "byteLimit": 2048000,
      "rowLimit": 10000
     },
     "inputWidgets": {},
     "nuid": "5bb314b8-d4fd-45a1-bc8b-876ad36b1372",
     "showTitle": false,
     "title": ""
    }
   },
   "outputs": [
    {
     "output_type": "stream",
     "name": "stdout",
     "output_type": "stream",
     "text": [
      "The number of studies in the dataset is: 483421\n"
     ]
    }
   ],
   "source": [
    "# print answer to Question 1\n",
    "print(\"The number of studies in the dataset is: \" + str(id_rdd_reduced.count()))"
   ]
  },
  {
   "cell_type": "markdown",
   "metadata": {
    "application/vnd.databricks.v1+cell": {
     "cellMetadata": {
      "byteLimit": 2048000,
      "rowLimit": 10000
     },
     "inputWidgets": {},
     "nuid": "868c1eac-5cbf-45c6-b1f3-ca3821cdc7d2",
     "showTitle": false,
     "title": ""
    }
   },
   "source": [
    "### Question 2\n",
    "List all types contained in the \"Type\" column with their frequencies, ordered from most frequent to least frequent"
   ]
  },
  {
   "cell_type": "code",
   "execution_count": 0,
   "metadata": {
    "application/vnd.databricks.v1+cell": {
     "cellMetadata": {
      "byteLimit": 2048000,
      "rowLimit": 10000
     },
     "inputWidgets": {},
     "nuid": "b81934b6-cf00-4da6-9154-88d5286c9b03",
     "showTitle": false,
     "title": ""
    }
   },
   "outputs": [
    {
     "output_type": "execute_result",
     "data": {
      "text/plain": [
       "['Type',\n",
       " 'INTERVENTIONAL',\n",
       " 'INTERVENTIONAL',\n",
       " 'INTERVENTIONAL',\n",
       " 'INTERVENTIONAL']"
      ]
     },
     "execution_count": 46,
     "metadata": {},
     "output_type": "execute_result"
    }
   ],
   "source": [
    "# find index of \"Type\" column in header row, then create RDD of \"Type\" values only\n",
    "type_col_num = final_rdd.take(1)[0].index(\"Type\")\n",
    "type_rdd = final_rdd.map(lambda x: x[type_col_num])\n",
    "type_rdd.take(5)"
   ]
  },
  {
   "cell_type": "code",
   "execution_count": 0,
   "metadata": {
    "application/vnd.databricks.v1+cell": {
     "cellMetadata": {
      "byteLimit": 2048000,
      "rowLimit": 10000
     },
     "inputWidgets": {},
     "nuid": "68b8b3ea-4a50-4fed-9ba6-60cefccfab76",
     "showTitle": false,
     "title": ""
    }
   },
   "outputs": [],
   "source": [
    "# filter out the \"Type\" header value\n",
    "type_rdd2 = type_rdd.filter(lambda x: x != 'Type')"
   ]
  },
  {
   "cell_type": "code",
   "execution_count": 0,
   "metadata": {
    "application/vnd.databricks.v1+cell": {
     "cellMetadata": {
      "byteLimit": 2048000,
      "rowLimit": 10000
     },
     "inputWidgets": {},
     "nuid": "203a2e0b-2af4-4bd0-9c94-3ed06c6a2f4e",
     "showTitle": false,
     "title": ""
    }
   },
   "outputs": [
    {
     "output_type": "execute_result",
     "data": {
      "text/plain": [
       "['', 'OBSERVATIONAL', 'EXPANDED_ACCESS', 'INTERVENTIONAL']"
      ]
     },
     "execution_count": 48,
     "metadata": {},
     "output_type": "execute_result"
    }
   ],
   "source": [
    "# check how many distinct types there are\n",
    "distinct_types = type_rdd2.distinct()\n",
    "distinct_types.collect()"
   ]
  },
  {
   "cell_type": "code",
   "execution_count": 0,
   "metadata": {
    "application/vnd.databricks.v1+cell": {
     "cellMetadata": {
      "byteLimit": 2048000,
      "rowLimit": 10000
     },
     "inputWidgets": {},
     "nuid": "c8ed40e1-0458-49f7-9cd5-2fed339ff9cd",
     "showTitle": false,
     "title": ""
    }
   },
   "outputs": [],
   "source": [
    "# replace missing values with \"NO TYPE\"\n",
    "def replace_missing_types(value):\n",
    "    if value == '':\n",
    "        value = \"NO TYPE\"\n",
    "    return value\n",
    "\n",
    "type_rdd3 = type_rdd2.map(replace_missing_types)"
   ]
  },
  {
   "cell_type": "code",
   "execution_count": 0,
   "metadata": {
    "application/vnd.databricks.v1+cell": {
     "cellMetadata": {
      "byteLimit": 2048000,
      "rowLimit": 10000
     },
     "inputWidgets": {},
     "nuid": "751c9955-e008-4bea-ae52-32de633c2cd5",
     "showTitle": false,
     "title": ""
    }
   },
   "outputs": [
    {
     "output_type": "execute_result",
     "data": {
      "text/plain": [
       "[('INTERVENTIONAL', 1),\n",
       " ('INTERVENTIONAL', 1),\n",
       " ('INTERVENTIONAL', 1),\n",
       " ('INTERVENTIONAL', 1),\n",
       " ('INTERVENTIONAL', 1)]"
      ]
     },
     "execution_count": 50,
     "metadata": {},
     "output_type": "execute_result"
    }
   ],
   "source": [
    "# pair RDD of type column\n",
    "type_pair_rdd= type_rdd3.map(lambda x: (x, 1))\n",
    "type_pair_rdd.take(5)"
   ]
  },
  {
   "cell_type": "code",
   "execution_count": 0,
   "metadata": {
    "application/vnd.databricks.v1+cell": {
     "cellMetadata": {
      "byteLimit": 2048000,
      "rowLimit": 10000
     },
     "inputWidgets": {},
     "nuid": "c26b27fa-60d8-41cd-bef0-e72638196dda",
     "showTitle": false,
     "title": ""
    }
   },
   "outputs": [
    {
     "output_type": "execute_result",
     "data": {
      "text/plain": [
       "[('OBSERVATIONAL', 110221),\n",
       " ('EXPANDED_ACCESS', 928),\n",
       " ('NO TYPE', 889),\n",
       " ('INTERVENTIONAL', 371383)]"
      ]
     },
     "execution_count": 51,
     "metadata": {},
     "output_type": "execute_result"
    }
   ],
   "source": [
    "# reduce by key to count frequency of each type\n",
    "type_rdd_reduced = type_pair_rdd.reduceByKey(lambda a, b: a + b)\n",
    "type_rdd_reduced.collect()"
   ]
  },
  {
   "cell_type": "code",
   "execution_count": 0,
   "metadata": {
    "application/vnd.databricks.v1+cell": {
     "cellMetadata": {
      "byteLimit": 2048000,
      "rowLimit": 10000
     },
     "inputWidgets": {},
     "nuid": "018697bf-d8da-432c-8040-a775ac899992",
     "showTitle": false,
     "title": ""
    }
   },
   "outputs": [
    {
     "output_type": "execute_result",
     "data": {
      "text/plain": [
       "[(110221, 'OBSERVATIONAL'),\n",
       " (928, 'EXPANDED_ACCESS'),\n",
       " (889, 'NO TYPE'),\n",
       " (371383, 'INTERVENTIONAL')]"
      ]
     },
     "execution_count": 52,
     "metadata": {},
     "output_type": "execute_result"
    }
   ],
   "source": [
    "# reverse the pair RDD\n",
    "type_rdd_reduced_reversed = type_rdd_reduced.map(lambda pair: (pair[1], pair[0]))\n",
    "type_rdd_reduced_reversed.collect()"
   ]
  },
  {
   "cell_type": "code",
   "execution_count": 0,
   "metadata": {
    "application/vnd.databricks.v1+cell": {
     "cellMetadata": {
      "byteLimit": 2048000,
      "rowLimit": 10000
     },
     "inputWidgets": {},
     "nuid": "6b080e04-0556-418c-ae14-23ad7dca1ffd",
     "showTitle": false,
     "title": ""
    }
   },
   "outputs": [
    {
     "output_type": "execute_result",
     "data": {
      "text/plain": [
       "[('INTERVENTIONAL', 371383),\n",
       " ('OBSERVATIONAL', 110221),\n",
       " ('EXPANDED_ACCESS', 928),\n",
       " ('NO TYPE', 889)]"
      ]
     },
     "execution_count": 53,
     "metadata": {},
     "output_type": "execute_result"
    }
   ],
   "source": [
    "# sort by frequency of each type, then reverse RDD to display answer to Question 2\n",
    "final_type_rdd = type_rdd_reduced_reversed.sortByKey(False).map(lambda pair: (pair[1], pair[0]))\n",
    "final_type_rdd.collect()"
   ]
  },
  {
   "cell_type": "markdown",
   "metadata": {
    "application/vnd.databricks.v1+cell": {
     "cellMetadata": {
      "byteLimit": 2048000,
      "rowLimit": 10000
     },
     "inputWidgets": {},
     "nuid": "e0eb8597-fdf3-44ed-847f-7d58a7f09186",
     "showTitle": false,
     "title": ""
    }
   },
   "source": [
    "### Question 3\n",
    "List the top 5 conditions (from Conditions) with their frequencies."
   ]
  },
  {
   "cell_type": "code",
   "execution_count": 0,
   "metadata": {
    "application/vnd.databricks.v1+cell": {
     "cellMetadata": {
      "byteLimit": 2048000,
      "rowLimit": 10000
     },
     "inputWidgets": {},
     "nuid": "84998034-1a6c-41ec-a792-efe6d6bbf04c",
     "showTitle": false,
     "title": ""
    }
   },
   "outputs": [
    {
     "output_type": "execute_result",
     "data": {
      "text/plain": [
       "['Conditions',\n",
       " 'Mental Health Issue (E.G.\", Depression, Psychosis, Personality Disorder,\" Substance Abuse)',\n",
       " 'Cerebrovascular Function|Cognition',\n",
       " 'Myocardial Infarct|Hyperglycemia',\n",
       " 'Decompensated Cirrhosis|Liver Transplantation']"
      ]
     },
     "execution_count": 54,
     "metadata": {},
     "output_type": "execute_result"
    }
   ],
   "source": [
    "# find index of \"Conditions\" column in header row, then create RDD of \"Conditions\" values only\n",
    "conditions_col_num = final_rdd.take(1)[0].index(\"Conditions\")\n",
    "conditions_rdd = final_rdd.map(lambda x: x[conditions_col_num])\n",
    "conditions_rdd.take(5)"
   ]
  },
  {
   "cell_type": "code",
   "execution_count": 0,
   "metadata": {
    "application/vnd.databricks.v1+cell": {
     "cellMetadata": {
      "byteLimit": 2048000,
      "rowLimit": 10000
     },
     "inputWidgets": {},
     "nuid": "4ecfc739-ed60-4fbf-9a51-54c0a12952fb",
     "showTitle": false,
     "title": ""
    }
   },
   "outputs": [
    {
     "output_type": "execute_result",
     "data": {
      "text/plain": [
       "['Mental Health Issue (E.G.\", Depression, Psychosis, Personality Disorder,\" Substance Abuse)',\n",
       " 'Cerebrovascular Function|Cognition',\n",
       " 'Myocardial Infarct|Hyperglycemia',\n",
       " 'Decompensated Cirrhosis|Liver Transplantation',\n",
       " 'Hypertension|Treatment Adherence and Compliance|Digital Health']"
      ]
     },
     "execution_count": 55,
     "metadata": {},
     "output_type": "execute_result"
    }
   ],
   "source": [
    "# filter out the 'Conditions' header value and any rows with \"Conditions\" listed instead of specific conditions\n",
    "conditions_rdd2 = conditions_rdd.filter(lambda x: x != 'Conditions')\n",
    "conditions_rdd2.take(5)"
   ]
  },
  {
   "cell_type": "code",
   "execution_count": 0,
   "metadata": {
    "application/vnd.databricks.v1+cell": {
     "cellMetadata": {
      "byteLimit": 2048000,
      "rowLimit": 10000
     },
     "inputWidgets": {},
     "nuid": "25b36389-b253-4847-b9ef-16faf748b1af",
     "showTitle": false,
     "title": ""
    }
   },
   "outputs": [],
   "source": [
    "# function for finding delimiter of RDD items over set character length\n",
    "def find_delim_long_rdd_items(rdd, num_rdd_items, char_length):\n",
    "    delimiter_list = []\n",
    "    for item in rdd.take(num_rdd_items):\n",
    "        if len(item) >= char_length:\n",
    "            delimiter = detect(item)\n",
    "            delimiter_list.append(delimiter)\n",
    "        else:\n",
    "            continue\n",
    "    return delimiter_list"
   ]
  },
  {
   "cell_type": "code",
   "execution_count": 0,
   "metadata": {
    "application/vnd.databricks.v1+cell": {
     "cellMetadata": {
      "byteLimit": 2048000,
      "rowLimit": 10000
     },
     "inputWidgets": {},
     "nuid": "afa7ee8e-b43b-40f2-acbc-467f82963c81",
     "showTitle": false,
     "title": ""
    }
   },
   "outputs": [],
   "source": [
    "# find list of potential delimiters for Conditions RDD\n",
    "delimiter_list = find_delim_long_rdd_items(conditions_rdd2, 500, 50)"
   ]
  },
  {
   "cell_type": "code",
   "execution_count": 0,
   "metadata": {
    "application/vnd.databricks.v1+cell": {
     "cellMetadata": {
      "byteLimit": 2048000,
      "rowLimit": 10000
     },
     "inputWidgets": {},
     "nuid": "110f5ba2-ea93-41b2-8c6e-bd6215d94e31",
     "showTitle": false,
     "title": ""
    }
   },
   "outputs": [],
   "source": [
    "# function to find most common delimiter in the list of delimiters, for use as delimiter in RDD item\n",
    "def find_best_delimiter_from_list(delim_list):\n",
    "    unique_delims = []\n",
    "    for delim in delim_list:\n",
    "        if delim not in unique_delims:\n",
    "            unique_delims.append(delim)\n",
    "\n",
    "    delim_counts = {}\n",
    "    for delim in unique_delims:\n",
    "        delim_counts[delim] = delim_list.count(delim)\n",
    "\n",
    "    delimiter = [i for i in delim_counts if delim_counts[i]==max(delim_counts.values())]\n",
    "    return delimiter[0]"
   ]
  },
  {
   "cell_type": "code",
   "execution_count": 0,
   "metadata": {
    "application/vnd.databricks.v1+cell": {
     "cellMetadata": {
      "byteLimit": 2048000,
      "rowLimit": 10000
     },
     "inputWidgets": {},
     "nuid": "0b9c5b22-e2e1-4931-87c2-5d8139c65220",
     "showTitle": false,
     "title": ""
    }
   },
   "outputs": [
    {
     "output_type": "execute_result",
     "data": {
      "text/plain": [
       "'|'"
      ]
     },
     "execution_count": 59,
     "metadata": {},
     "output_type": "execute_result"
    }
   ],
   "source": [
    "# use function to find best delimiter for the conditions RDD\n",
    "conditions_delim = find_best_delimiter_from_list(delimiter_list)\n",
    "conditions_delim"
   ]
  },
  {
   "cell_type": "code",
   "execution_count": 0,
   "metadata": {
    "application/vnd.databricks.v1+cell": {
     "cellMetadata": {
      "byteLimit": 2048000,
      "rowLimit": 10000
     },
     "inputWidgets": {},
     "nuid": "f5b56138-3d46-428a-bc2d-c51657dac727",
     "showTitle": false,
     "title": ""
    }
   },
   "outputs": [
    {
     "output_type": "execute_result",
     "data": {
      "text/plain": [
       "[['Mental Health Issue (E.G.\", Depression, Psychosis, Personality Disorder,\" Substance Abuse)'],\n",
       " ['Cerebrovascular Function', 'Cognition'],\n",
       " ['Myocardial Infarct', 'Hyperglycemia'],\n",
       " ['Decompensated Cirrhosis', 'Liver Transplantation'],\n",
       " ['Hypertension', 'Treatment Adherence and Compliance', 'Digital Health']]"
      ]
     },
     "execution_count": 60,
     "metadata": {},
     "output_type": "execute_result"
    }
   ],
   "source": [
    "# split conditions RDD using best delimiter\n",
    "conditions_split_rdd = conditions_rdd2.map(lambda x: x.split(conditions_delim))\n",
    "conditions_split_rdd.take(5)"
   ]
  },
  {
   "cell_type": "code",
   "execution_count": 0,
   "metadata": {
    "application/vnd.databricks.v1+cell": {
     "cellMetadata": {
      "byteLimit": 2048000,
      "rowLimit": 10000
     },
     "inputWidgets": {},
     "nuid": "ea993b77-348e-4588-9699-af7a8dea3d17",
     "showTitle": false,
     "title": ""
    }
   },
   "outputs": [
    {
     "output_type": "execute_result",
     "data": {
      "text/plain": [
       "['Mental Health Issue (E.G.\", Depression, Psychosis, Personality Disorder,\" Substance Abuse)',\n",
       " 'Cerebrovascular Function',\n",
       " 'Cognition',\n",
       " 'Myocardial Infarct',\n",
       " 'Hyperglycemia',\n",
       " 'Decompensated Cirrhosis',\n",
       " 'Liver Transplantation',\n",
       " 'Hypertension',\n",
       " 'Treatment Adherence and Compliance',\n",
       " 'Digital Health']"
      ]
     },
     "execution_count": 61,
     "metadata": {},
     "output_type": "execute_result"
    }
   ],
   "source": [
    "# unpack all lists of conditions\n",
    "condition_rdd_flat = conditions_split_rdd.flatMap(lambda x: (*x,))\n",
    "condition_rdd_flat.take(10)"
   ]
  },
  {
   "cell_type": "code",
   "execution_count": 0,
   "metadata": {
    "application/vnd.databricks.v1+cell": {
     "cellMetadata": {
      "byteLimit": 2048000,
      "rowLimit": 10000
     },
     "inputWidgets": {},
     "nuid": "50b8887a-706d-4d8e-920e-3b5b9dbe4e15",
     "showTitle": false,
     "title": ""
    }
   },
   "outputs": [
    {
     "output_type": "execute_result",
     "data": {
      "text/plain": [
       "['Mental Health Issue (E.G.\", Depression, Psychosis, Personality Disorder,\" Substance Abuse)',\n",
       " 'Cerebrovascular Function',\n",
       " 'Cognition',\n",
       " 'Myocardial Infarct',\n",
       " 'Hyperglycemia']"
      ]
     },
     "execution_count": 62,
     "metadata": {},
     "output_type": "execute_result"
    }
   ],
   "source": [
    "# remove items with no conditions listed\n",
    "conditions_rdd_filtered = condition_rdd_flat.filter(lambda x: x != '')\n",
    "conditions_rdd_filtered.take(5)"
   ]
  },
  {
   "cell_type": "code",
   "execution_count": 0,
   "metadata": {
    "application/vnd.databricks.v1+cell": {
     "cellMetadata": {
      "byteLimit": 2048000,
      "rowLimit": 10000
     },
     "inputWidgets": {},
     "nuid": "227822ca-d062-4c76-b414-8ea6c4e80aab",
     "showTitle": false,
     "title": ""
    }
   },
   "outputs": [
    {
     "output_type": "execute_result",
     "data": {
      "text/plain": [
       "[('Mental Health Issue (E.G.\", Depression, Psychosis, Personality Disorder,\" Substance Abuse)',\n",
       "  1),\n",
       " ('Cerebrovascular Function', 1),\n",
       " ('Cognition', 1),\n",
       " ('Myocardial Infarct', 1),\n",
       " ('Hyperglycemia', 1),\n",
       " ('Decompensated Cirrhosis', 1),\n",
       " ('Liver Transplantation', 1),\n",
       " ('Hypertension', 1),\n",
       " ('Treatment Adherence and Compliance', 1),\n",
       " ('Digital Health', 1)]"
      ]
     },
     "execution_count": 63,
     "metadata": {},
     "output_type": "execute_result"
    }
   ],
   "source": [
    "# pair RDD of conditions\n",
    "condition_pair_rdd = conditions_rdd_filtered.map(lambda x: (x,1))\n",
    "condition_pair_rdd.take(10)"
   ]
  },
  {
   "cell_type": "code",
   "execution_count": 0,
   "metadata": {
    "application/vnd.databricks.v1+cell": {
     "cellMetadata": {
      "byteLimit": 2048000,
      "rowLimit": 10000
     },
     "inputWidgets": {},
     "nuid": "fc794218-4c8f-417e-a2df-ef4f0d0345a8",
     "showTitle": false,
     "title": ""
    }
   },
   "outputs": [
    {
     "output_type": "execute_result",
     "data": {
      "text/plain": [
       "[('Wellbeing', 24),\n",
       " ('Quality of Life', 1816),\n",
       " ('Motor Skills', 7),\n",
       " ('Autoimmune Diseases', 209),\n",
       " ('Unspecified Childhood Solid Tumor\",\" Protocol Specific', 88),\n",
       " ('Colorectal Cancer', 2931),\n",
       " ('Lymph Node Metastasis', 30),\n",
       " ('Renal Colic', 51),\n",
       " ('Testicular Germ Cell Tumor', 76),\n",
       " ('Cardiovascular Diseases', 2632)]"
      ]
     },
     "execution_count": 64,
     "metadata": {},
     "output_type": "execute_result"
    }
   ],
   "source": [
    "# reduce by key to find totals for each condition\n",
    "reduced_condition_rdd = condition_pair_rdd.reduceByKey(lambda a, b: a + b)\n",
    "reduced_condition_rdd.take(10)"
   ]
  },
  {
   "cell_type": "code",
   "execution_count": 0,
   "metadata": {
    "application/vnd.databricks.v1+cell": {
     "cellMetadata": {
      "byteLimit": 2048000,
      "rowLimit": 10000
     },
     "inputWidgets": {},
     "nuid": "ef6afa91-d11b-40e3-bca2-b30478785cde",
     "showTitle": false,
     "title": ""
    }
   },
   "outputs": [
    {
     "output_type": "execute_result",
     "data": {
      "text/plain": [
       "[(24, 'Wellbeing'),\n",
       " (1816, 'Quality of Life'),\n",
       " (7, 'Motor Skills'),\n",
       " (209, 'Autoimmune Diseases'),\n",
       " (88, 'Unspecified Childhood Solid Tumor\",\" Protocol Specific'),\n",
       " (2931, 'Colorectal Cancer'),\n",
       " (30, 'Lymph Node Metastasis'),\n",
       " (51, 'Renal Colic'),\n",
       " (76, 'Testicular Germ Cell Tumor'),\n",
       " (2632, 'Cardiovascular Diseases')]"
      ]
     },
     "execution_count": 65,
     "metadata": {},
     "output_type": "execute_result"
    }
   ],
   "source": [
    "# reverse pair rdd so it can be sorted\n",
    "reduced_condition_rdd2 = reduced_condition_rdd.map(lambda pair: (pair[1], pair[0]))\n",
    "reduced_condition_rdd2.take(10)"
   ]
  },
  {
   "cell_type": "code",
   "execution_count": 0,
   "metadata": {
    "application/vnd.databricks.v1+cell": {
     "cellMetadata": {
      "byteLimit": 2048000,
      "rowLimit": 10000
     },
     "inputWidgets": {},
     "nuid": "ec72d8b2-e07c-4280-b94c-df5c79de6ffd",
     "showTitle": false,
     "title": ""
    }
   },
   "outputs": [
    {
     "output_type": "execute_result",
     "data": {
      "text/plain": [
       "[('Healthy', 9731),\n",
       " ('Breast Cancer', 7502),\n",
       " ('Obesity', 6549),\n",
       " ('Stroke', 4071),\n",
       " ('Hypertension', 4020)]"
      ]
     },
     "execution_count": 66,
     "metadata": {},
     "output_type": "execute_result"
    }
   ],
   "source": [
    "# sort by descending frequency and reverse pair RDD so condition is first and display list of the top 5 conditions (from Conditions) with their frequencies\n",
    "sorted_condition_rdd = reduced_condition_rdd2.sortByKey(False).map(lambda pair: (pair[1], pair[0]))\n",
    "sorted_condition_rdd.take(5)"
   ]
  },
  {
   "cell_type": "markdown",
   "metadata": {
    "application/vnd.databricks.v1+cell": {
     "cellMetadata": {
      "byteLimit": 2048000,
      "rowLimit": 10000
     },
     "inputWidgets": {},
     "nuid": "4667d1b0-3874-436e-87a2-d4443d3b8bcf",
     "showTitle": false,
     "title": ""
    }
   },
   "source": [
    "### Question 4\n",
    "Find the 10 most common sponsors that are not pharmaceutical companies, along with the number of clinical trials they have sponsored. Assume that the pharma.csv dataset column \"Parent Company\" contains all possible pharmaceutical companies."
   ]
  },
  {
   "cell_type": "code",
   "execution_count": 0,
   "metadata": {
    "application/vnd.databricks.v1+cell": {
     "cellMetadata": {
      "byteLimit": 2048000,
      "rowLimit": 10000
     },
     "inputWidgets": {},
     "nuid": "c7ff6d70-ecdb-4805-afa4-70a57d320d0d",
     "showTitle": false,
     "title": ""
    }
   },
   "outputs": [
    {
     "output_type": "execute_result",
     "data": {
      "text/plain": [
       "73"
      ]
     },
     "execution_count": 67,
     "metadata": {},
     "output_type": "execute_result"
    }
   ],
   "source": [
    "# create RDD of pharma companies\n",
    "companies_rdd = pharma_rdd4.map(lambda x: x[1]).distinct()\n",
    "companies_rdd.count()"
   ]
  },
  {
   "cell_type": "code",
   "execution_count": 0,
   "metadata": {
    "application/vnd.databricks.v1+cell": {
     "cellMetadata": {
      "byteLimit": 2048000,
      "rowLimit": 10000
     },
     "inputWidgets": {},
     "nuid": "c703412e-2878-4b78-b477-37a3a842cae5",
     "showTitle": false,
     "title": ""
    }
   },
   "outputs": [
    {
     "output_type": "execute_result",
     "data": {
      "text/plain": [
       "['Sponsor',\n",
       " 'Sangath',\n",
       " 'McMaster University',\n",
       " 'Melbourne Health',\n",
       " 'Assistance Publique - Hôpitaux de Paris']"
      ]
     },
     "execution_count": 68,
     "metadata": {},
     "output_type": "execute_result"
    }
   ],
   "source": [
    "# find index of \"Sponsor\" column in header row, then create RDD of \"Type\" values only\n",
    "sponsor_col_num = final_rdd.take(1)[0].index(\"Sponsor\")\n",
    "sponsors_rdd = final_rdd.map(lambda x: x[sponsor_col_num])\n",
    "sponsors_rdd.take(5)"
   ]
  },
  {
   "cell_type": "code",
   "execution_count": 0,
   "metadata": {
    "application/vnd.databricks.v1+cell": {
     "cellMetadata": {
      "byteLimit": 2048000,
      "rowLimit": 10000
     },
     "inputWidgets": {},
     "nuid": "4ad39fe0-3cf9-4541-b972-168e975ca02f",
     "showTitle": false,
     "title": ""
    }
   },
   "outputs": [],
   "source": [
    "# remove 'Sponsor' header\n",
    "sponsors_rdd2 = sponsors_rdd.filter(lambda x: x != 'Sponsor')"
   ]
  },
  {
   "cell_type": "code",
   "execution_count": 0,
   "metadata": {
    "application/vnd.databricks.v1+cell": {
     "cellMetadata": {
      "byteLimit": 2048000,
      "rowLimit": 10000
     },
     "inputWidgets": {},
     "nuid": "34930679-20b2-4d18-ac48-2ef61a20a24a",
     "showTitle": false,
     "title": ""
    }
   },
   "outputs": [],
   "source": [
    "# convert companies rdd to list\n",
    "list_of_companies = companies_rdd.collect()"
   ]
  },
  {
   "cell_type": "code",
   "execution_count": 0,
   "metadata": {
    "application/vnd.databricks.v1+cell": {
     "cellMetadata": {
      "byteLimit": 2048000,
      "rowLimit": 10000
     },
     "inputWidgets": {},
     "nuid": "4d36b4fc-e5d3-4b3e-8541-aea3cfa01600",
     "showTitle": false,
     "title": ""
    }
   },
   "outputs": [
    {
     "output_type": "execute_result",
     "data": {
      "text/plain": [
       "465039"
      ]
     },
     "execution_count": 71,
     "metadata": {},
     "output_type": "execute_result"
    }
   ],
   "source": [
    "# filter sponsors that appear in the list of pharmaceutical companies\n",
    "sponsors_rdd3 = sponsors_rdd2.filter(lambda x: x not in list_of_companies)\n",
    "sponsors_rdd3.count()"
   ]
  },
  {
   "cell_type": "code",
   "execution_count": 0,
   "metadata": {
    "application/vnd.databricks.v1+cell": {
     "cellMetadata": {
      "byteLimit": 2048000,
      "rowLimit": 10000
     },
     "inputWidgets": {},
     "nuid": "d6d654e2-3bd8-4fdb-8812-1231d91b8a44",
     "showTitle": false,
     "title": ""
    }
   },
   "outputs": [
    {
     "output_type": "execute_result",
     "data": {
      "text/plain": [
       "[('Sangath', 1),\n",
       " ('McMaster University', 1),\n",
       " ('Melbourne Health', 1),\n",
       " ('Assistance Publique - Hôpitaux de Paris', 1),\n",
       " ('Istituto Auxologico Italiano', 1),\n",
       " ('University of Oregon', 1),\n",
       " ('Medical University of South Carolina', 1),\n",
       " ('Johns Hopkins University', 1),\n",
       " ('University of Manitoba', 1),\n",
       " ('M.D. Anderson Cancer Center', 1)]"
      ]
     },
     "execution_count": 72,
     "metadata": {},
     "output_type": "execute_result"
    }
   ],
   "source": [
    "# create pair RDD for sponsors\n",
    "sponsors_pair_rdd = sponsors_rdd3.map(lambda x: (x,1))\n",
    "sponsors_pair_rdd.take(10)"
   ]
  },
  {
   "cell_type": "code",
   "execution_count": 0,
   "metadata": {
    "application/vnd.databricks.v1+cell": {
     "cellMetadata": {
      "byteLimit": 2048000,
      "rowLimit": 10000
     },
     "inputWidgets": {},
     "nuid": "dfd963ae-50a0-4aa0-a37d-9170dee49d36",
     "showTitle": false,
     "title": ""
    }
   },
   "outputs": [
    {
     "output_type": "execute_result",
     "data": {
      "text/plain": [
       "[('University of Manitoba', 496),\n",
       " ('National Institute of Allergy and Infectious Diseases (NIAID)', 2340),\n",
       " ('The First Affiliated Hospital with Nanjing Medical University', 303),\n",
       " ('Hôpital NOVO', 49),\n",
       " ('Medical University of Graz', 396),\n",
       " ('Near East University\",\" Turkey', 23),\n",
       " ('Hospital Italiano de Buenos Aires', 105),\n",
       " ('EBG MedAustron GmbH', 5),\n",
       " ('Royal Marsden NHS Foundation Trust', 246),\n",
       " ('Wolfram Schummer\", MD,\" PhD', 1)]"
      ]
     },
     "execution_count": 73,
     "metadata": {},
     "output_type": "execute_result"
    }
   ],
   "source": [
    "# reduce by key to count frequency of each sponsor\n",
    "sponsors_reduced_rdd = sponsors_pair_rdd.reduceByKey(lambda a, b: a + b)\n",
    "sponsors_reduced_rdd.take(10)"
   ]
  },
  {
   "cell_type": "code",
   "execution_count": 0,
   "metadata": {
    "application/vnd.databricks.v1+cell": {
     "cellMetadata": {
      "byteLimit": 2048000,
      "rowLimit": 10000
     },
     "inputWidgets": {},
     "nuid": "40e9d8fa-971a-4fc1-823e-68b599d9e008",
     "showTitle": false,
     "title": ""
    }
   },
   "outputs": [],
   "source": [
    "# reverse pair RDD to sort by key in order of number of studies\n",
    "sponsors_reduced_rdd2 = sponsors_reduced_rdd.map(lambda pair: (pair[1], pair[0]))\n",
    "sorted_sponsors_reduced_rdd = sponsors_reduced_rdd2.sortByKey(False).map(lambda pair: (pair[1], pair[0]))"
   ]
  },
  {
   "cell_type": "code",
   "execution_count": 0,
   "metadata": {
    "application/vnd.databricks.v1+cell": {
     "cellMetadata": {
      "byteLimit": 2048000,
      "rowLimit": 10000
     },
     "inputWidgets": {},
     "nuid": "c18dbe98-7413-4129-afe6-42cadf6c600d",
     "showTitle": false,
     "title": ""
    }
   },
   "outputs": [
    {
     "output_type": "execute_result",
     "data": {
      "text/plain": [
       "[('National Cancer Institute (NCI)', 3410),\n",
       " ('Assiut University', 3335),\n",
       " ('Cairo University', 3023),\n",
       " ('Assistance Publique - Hôpitaux de Paris', 2951),\n",
       " ('Mayo Clinic', 2766),\n",
       " ('M.D. Anderson Cancer Center', 2702),\n",
       " ('Novartis Pharmaceuticals', 2393),\n",
       " ('National Institute of Allergy and Infectious Diseases (NIAID)', 2340),\n",
       " ('Massachusetts General Hospital', 2263),\n",
       " ('National Taiwan University Hospital', 2181)]"
      ]
     },
     "execution_count": 75,
     "metadata": {},
     "output_type": "execute_result"
    }
   ],
   "source": [
    "# view 10 most common sponsors that are not pharmaceutical companies, in descending order of number of studies\n",
    "sorted_sponsors_reduced_rdd.take(10)"
   ]
  },
  {
   "cell_type": "markdown",
   "metadata": {
    "application/vnd.databricks.v1+cell": {
     "cellMetadata": {
      "byteLimit": 2048000,
      "rowLimit": 10000
     },
     "inputWidgets": {},
     "nuid": "0d88f08c-8f5e-4660-9978-2908adfe8a57",
     "showTitle": false,
     "title": ""
    }
   },
   "source": [
    "### Question 5\n",
    "Plot number of completed studies for each month in 2023. Include visualisation as well as table of values"
   ]
  },
  {
   "cell_type": "code",
   "execution_count": 0,
   "metadata": {
    "application/vnd.databricks.v1+cell": {
     "cellMetadata": {
      "byteLimit": 2048000,
      "rowLimit": 10000
     },
     "inputWidgets": {},
     "nuid": "cd371706-aa34-45df-8e35-e1aa8ad06a2c",
     "showTitle": false,
     "title": ""
    }
   },
   "outputs": [
    {
     "output_type": "execute_result",
     "data": {
      "text/plain": [
       "['NO_LONGER_AVAILABLE',\n",
       " 'AVAILABLE',\n",
       " 'TERMINATED',\n",
       " 'TEMPORARILY_NOT_AVAILABLE',\n",
       " 'NOT_YET_RECRUITING',\n",
       " 'UNKNOWN',\n",
       " 'WITHDRAWN',\n",
       " 'ENROLLING_BY_INVITATION',\n",
       " 'RECRUITING',\n",
       " 'SUSPENDED',\n",
       " 'APPROVED_FOR_MARKETING',\n",
       " 'Status',\n",
       " 'COMPLETED',\n",
       " 'ACTIVE_NOT_RECRUITING',\n",
       " 'WITHHELD']"
      ]
     },
     "execution_count": 76,
     "metadata": {},
     "output_type": "execute_result"
    }
   ],
   "source": [
    "# find index of \"Status\" column in header row, then create RDD of distinct \"Status\" values\n",
    "status_col_num = final_rdd.take(1)[0].index(\"Status\")\n",
    "distinct_status_rdd = final_rdd.map(lambda x: x[status_col_num]).distinct()\n",
    "distinct_status_rdd.collect()"
   ]
  },
  {
   "cell_type": "code",
   "execution_count": 0,
   "metadata": {
    "application/vnd.databricks.v1+cell": {
     "cellMetadata": {
      "byteLimit": 2048000,
      "rowLimit": 10000
     },
     "inputWidgets": {},
     "nuid": "fc1c7649-798b-4f01-b024-055ee9783b6d",
     "showTitle": false,
     "title": ""
    }
   },
   "outputs": [
    {
     "output_type": "execute_result",
     "data": {
      "text/plain": [
       "[('NCT03630471',\n",
       "  'Effectiveness of a Problem-solving Intervention for Common Adolescent Mental Health Problems in India',\n",
       "  'PRIDE',\n",
       "  'COMPLETED',\n",
       "  'Mental Health Issue (E.G.\", Depression, Psychosis, Personality Disorder,\" Substance Abuse)',\n",
       "  \"BEHAVIORAL: PRIDE 'Step 1' problem-solving intervention|BEHAVIORAL: Enhanced usual care\",\n",
       "  'Sangath',\n",
       "  'Harvard Medical School (HMS and HSDM)|London School of Hygiene and Tropical Medicine',\n",
       "  '250.0',\n",
       "  'OTHER',\n",
       "  'INTERVENTIONAL',\n",
       "  'Allocation: RANDOMIZED|Intervention Model: PARALLEL|Masking: DOUBLE (INVESTIGATOR\",\" OUTCOMES_ASSESSOR)|Primary Purpose: TREATMENT',\n",
       "  '2018-08-20',\n",
       "  '2019-02-28'),\n",
       " ('NCT02945371',\n",
       "  'Tailored Inhibitory Control Training to Reverse EA-linked Deficits in Mid-life',\n",
       "  'REV',\n",
       "  'COMPLETED',\n",
       "  'Smoking|Alcohol Drinking|Prescription Drug Abuse|Substance-Related Disorders|Oral Intake Reduced',\n",
       "  'BEHAVIORAL: Person-centered inhibitory control training|BEHAVIORAL: Active behavioral response training',\n",
       "  'University of Oregon',\n",
       "  '',\n",
       "  '103.0',\n",
       "  'OTHER',\n",
       "  'INTERVENTIONAL',\n",
       "  'Allocation: RANDOMIZED|Intervention Model: PARALLEL|Masking: SINGLE (PARTICIPANT)|Primary Purpose: PREVENTION',\n",
       "  '2014-09',\n",
       "  '2016-05'),\n",
       " ('NCT01055171',\n",
       "  'Neuromodulation of Trauma Memories in PTSD & Alcohol Dependence',\n",
       "  '',\n",
       "  'COMPLETED',\n",
       "  'Alcohol Dependence|PTSD',\n",
       "  'DRUG: Propranolol|DRUG: Placebo',\n",
       "  'Medical University of South Carolina',\n",
       "  'National Institute on Alcohol Abuse and Alcoholism (NIAAA)',\n",
       "  '44.0',\n",
       "  'OTHER',\n",
       "  'INTERVENTIONAL',\n",
       "  'Allocation: RANDOMIZED|Intervention Model: PARALLEL|Masking: QUADRUPLE (PARTICIPANT\", CARE_PROVIDER, INVESTIGATOR,\" OUTCOMES_ASSESSOR)|Primary Purpose: TREATMENT',\n",
       "  '2010-01',\n",
       "  '2012-08'),\n",
       " ('NCT01125371',\n",
       "  'Computerized Brief Alcohol Intervention (BI) for Binge Drinking HIV At-Risk and Infected Women',\n",
       "  '',\n",
       "  'COMPLETED',\n",
       "  'Alcohol; Harmful Use|Binge Drinking|Risk Behavior|HIV Infection',\n",
       "  'BEHAVIORAL: Computerized brief alcohol intervention + IVR booster calls|BEHAVIORAL: Computerized brief alcohol intervention|BEHAVIORAL: Attention Control',\n",
       "  'Johns Hopkins University',\n",
       "  'National Institute on Alcohol Abuse and Alcoholism (NIAAA)',\n",
       "  '439.0',\n",
       "  'OTHER',\n",
       "  'INTERVENTIONAL',\n",
       "  'Allocation: RANDOMIZED|Intervention Model: PARALLEL|Masking: DOUBLE (INVESTIGATOR\",\" OUTCOMES_ASSESSOR)|Primary Purpose: TREATMENT',\n",
       "  '2011-10',\n",
       "  '2016-06-07'),\n",
       " ('NCT02554071',\n",
       "  'Manitoba Pharmacist Initiated Smoking Cessation Pilot Project',\n",
       "  '',\n",
       "  'COMPLETED',\n",
       "  'Smoking Cessation',\n",
       "  'OTHER: Pharmacist - Smoking Cessation Support',\n",
       "  'University of Manitoba',\n",
       "  'Govenment of Manitoba|Canadian Foundation for Pharmacy|Neighbourhood Pharmacy Association of Canada',\n",
       "  '119.0',\n",
       "  'OTHER',\n",
       "  'INTERVENTIONAL',\n",
       "  'Allocation: NA|Intervention Model: SINGLE_GROUP|Masking: NONE|Primary Purpose: SUPPORTIVE_CARE',\n",
       "  '2014-01',\n",
       "  '2014-11')]"
      ]
     },
     "execution_count": 77,
     "metadata": {},
     "output_type": "execute_result"
    }
   ],
   "source": [
    "# filter RDD for completed trials only\n",
    "completed_trials_rdd = final_rdd.filter(lambda x: \"completed\" in x[status_col_num].lower())\n",
    "completed_trials_rdd.take(5)"
   ]
  },
  {
   "cell_type": "code",
   "execution_count": 0,
   "metadata": {
    "application/vnd.databricks.v1+cell": {
     "cellMetadata": {
      "byteLimit": 2048000,
      "rowLimit": 10000
     },
     "inputWidgets": {},
     "nuid": "013009f2-dc2f-480d-892a-3c0251eb1da9",
     "showTitle": false,
     "title": ""
    }
   },
   "outputs": [
    {
     "output_type": "execute_result",
     "data": {
      "text/plain": [
       "['2019-02-28',\n",
       " '2016-05',\n",
       " '2012-08',\n",
       " '2016-06-07',\n",
       " '2014-11',\n",
       " '2017-05',\n",
       " '2011-12',\n",
       " '2023-02-24',\n",
       " '2016-12',\n",
       " '2021-07-31']"
      ]
     },
     "execution_count": 78,
     "metadata": {},
     "output_type": "execute_result"
    }
   ],
   "source": [
    "# create RDD of completion dates for completed trials only\n",
    "completed_dates_col_num = final_rdd.take(1)[0].index(\"Completion\")\n",
    "completed_dates_rdd = completed_trials_rdd.map(lambda x: x[completed_dates_col_num])\n",
    "completed_dates_rdd.take(10)"
   ]
  },
  {
   "cell_type": "code",
   "execution_count": 0,
   "metadata": {
    "application/vnd.databricks.v1+cell": {
     "cellMetadata": {
      "byteLimit": 2048000,
      "rowLimit": 10000
     },
     "inputWidgets": {},
     "nuid": "1e10138c-31a7-4306-bc88-51a28e5ccf1a",
     "showTitle": false,
     "title": ""
    }
   },
   "outputs": [
    {
     "output_type": "execute_result",
     "data": {
      "text/plain": [
       "['2023-02-24',\n",
       " '2023-04-07',\n",
       " '2023-08-27',\n",
       " '2023-06-30',\n",
       " '2023-08-01',\n",
       " '2023-05-02',\n",
       " '2023-01-06',\n",
       " '2023-07-31',\n",
       " '2023-12-08',\n",
       " '2023-10-01',\n",
       " '2023-01-01',\n",
       " '2023-01-01',\n",
       " '2023-03-20',\n",
       " '2023-06-01',\n",
       " '2023-06-06']"
      ]
     },
     "execution_count": 79,
     "metadata": {},
     "output_type": "execute_result"
    }
   ],
   "source": [
    "# retrieve only dates for selected year\n",
    "completed_dates_rdd2 = completed_dates_rdd.filter(lambda x: year in x)\n",
    "completed_dates_rdd2.take(15)"
   ]
  },
  {
   "cell_type": "code",
   "execution_count": 0,
   "metadata": {
    "application/vnd.databricks.v1+cell": {
     "cellMetadata": {
      "byteLimit": 2048000,
      "rowLimit": 10000
     },
     "inputWidgets": {},
     "nuid": "545d4f7f-3a3c-4ac8-83e1-2522b2b8b227",
     "showTitle": false,
     "title": ""
    }
   },
   "outputs": [
    {
     "output_type": "execute_result",
     "data": {
      "text/plain": [
       "[['2023-02'],\n",
       " ['2023-04'],\n",
       " ['2023-08'],\n",
       " ['2023-06'],\n",
       " ['2023-08'],\n",
       " ['2023-05'],\n",
       " ['2023-01'],\n",
       " ['2023-07'],\n",
       " ['2023-12'],\n",
       " ['2023-10']]"
      ]
     },
     "execution_count": 80,
     "metadata": {},
     "output_type": "execute_result"
    }
   ],
   "source": [
    "# find date format and create RDD of months only (remove days)\n",
    "if re.search(f'[a-zA-Z]+\\s+{year}', completed_dates_rdd2.take(1)[0]):\n",
    "    completed_date_format = \"mmm-yyyy\"\n",
    "    completed_dates_rdd3 = completed_dates_rdd2.map(lambda x: re.findall(f'[a-zA-Z]+\\s+{year}', x))\n",
    "elif re.search(f'{year}-[0-1][0-9]', completed_dates_rdd2.take(1)[0]):\n",
    "    completed_date_format = \"yyyy-mm-dd\"\n",
    "    completed_dates_rdd3 = completed_dates_rdd2.map(lambda x: re.findall(f'{year}-[0-1][0-9]', x))\n",
    "completed_dates_rdd3.take(10)"
   ]
  },
  {
   "cell_type": "code",
   "execution_count": 0,
   "metadata": {
    "application/vnd.databricks.v1+cell": {
     "cellMetadata": {
      "byteLimit": 2048000,
      "rowLimit": 10000
     },
     "inputWidgets": {},
     "nuid": "e3d0db4b-09a0-434d-a1b6-f0534f1c03c6",
     "showTitle": false,
     "title": ""
    }
   },
   "outputs": [
    {
     "output_type": "execute_result",
     "data": {
      "text/plain": [
       "[('2023-02', 1),\n",
       " ('2023-04', 1),\n",
       " ('2023-08', 1),\n",
       " ('2023-06', 1),\n",
       " ('2023-08', 1)]"
      ]
     },
     "execution_count": 81,
     "metadata": {},
     "output_type": "execute_result"
    }
   ],
   "source": [
    "# create pair RDD for months\n",
    "month_pair_rdd = completed_dates_rdd3.map(lambda x: (*x, 1))\n",
    "month_pair_rdd.take(5)"
   ]
  },
  {
   "cell_type": "code",
   "execution_count": 0,
   "metadata": {
    "application/vnd.databricks.v1+cell": {
     "cellMetadata": {
      "byteLimit": 2048000,
      "rowLimit": 10000
     },
     "inputWidgets": {},
     "nuid": "9f426658-459c-4afd-945d-d50f69cb27e9",
     "showTitle": false,
     "title": ""
    }
   },
   "outputs": [
    {
     "output_type": "execute_result",
     "data": {
      "text/plain": [
       "[('2023-01', 1494),\n",
       " ('2023-02', 1272),\n",
       " ('2023-03', 1552),\n",
       " ('2023-04', 1324),\n",
       " ('2023-05', 1415),\n",
       " ('2023-06', 1619),\n",
       " ('2023-07', 1360),\n",
       " ('2023-08', 1230),\n",
       " ('2023-09', 1152),\n",
       " ('2023-10', 1058),\n",
       " ('2023-11', 909),\n",
       " ('2023-12', 1082)]"
      ]
     },
     "execution_count": 82,
     "metadata": {},
     "output_type": "execute_result"
    }
   ],
   "source": [
    "# reduce pair RDD to give counts for each month\n",
    "trials_per_month_rdd = month_pair_rdd.reduceByKey(lambda a,b: a+b).sortByKey()\n",
    "trials_per_month_rdd.take(12)"
   ]
  },
  {
   "cell_type": "code",
   "execution_count": 0,
   "metadata": {
    "application/vnd.databricks.v1+cell": {
     "cellMetadata": {
      "byteLimit": 2048000,
      "rowLimit": 10000
     },
     "inputWidgets": {},
     "nuid": "abd33690-a5a0-4c61-8ff3-3bc9587e17b8",
     "showTitle": false,
     "title": ""
    }
   },
   "outputs": [
    {
     "output_type": "execute_result",
     "data": {
      "text/plain": [
       "{'2023-01': 1494,\n",
       " '2023-02': 1272,\n",
       " '2023-03': 1552,\n",
       " '2023-04': 1324,\n",
       " '2023-05': 1415,\n",
       " '2023-06': 1619,\n",
       " '2023-07': 1360,\n",
       " '2023-08': 1230,\n",
       " '2023-09': 1152,\n",
       " '2023-10': 1058,\n",
       " '2023-11': 909,\n",
       " '2023-12': 1082}"
      ]
     },
     "execution_count": 83,
     "metadata": {},
     "output_type": "execute_result"
    }
   ],
   "source": [
    "# convert RDD to dictionary for plotting graph\n",
    "trials_per_month_dict = trials_per_month_rdd.collectAsMap()\n",
    "trials_per_month_dict"
   ]
  },
  {
   "cell_type": "code",
   "execution_count": 0,
   "metadata": {
    "application/vnd.databricks.v1+cell": {
     "cellMetadata": {
      "byteLimit": 2048000,
      "rowLimit": 10000
     },
     "inputWidgets": {},
     "nuid": "6cead4b4-eb66-4f35-b2af-e1cbf030d5c4",
     "showTitle": false,
     "title": ""
    }
   },
   "outputs": [],
   "source": [
    "# function to rename dictionary keys based on date format\n",
    "def rename_dates_dict(dict_name, date_format, year):\n",
    "    try:\n",
    "        if date_format == \"mmm-yyyy\":\n",
    "            # rename dictionary keys from Month/Year to Month only\n",
    "            dict_name[\"Jan\"] = dict_name.pop(f\"Jan {year}\")\n",
    "            dict_name[\"Feb\"] = dict_name.pop(f\"Feb {year}\")\n",
    "            dict_name[\"Mar\"] = dict_name.pop(f\"Mar {year}\")\n",
    "            dict_name[\"Apr\"] = dict_name.pop(f\"Apr {year}\")\n",
    "            dict_name[\"May\"] = dict_name.pop(f\"May {year}\")\n",
    "            dict_name[\"Jun\"] = dict_name.pop(f\"Jun {year}\")\n",
    "            dict_name[\"Jul\"] = dict_name.pop(f\"Jul {year}\")\n",
    "            dict_name[\"Aug\"] = dict_name.pop(f\"Aug {year}\")\n",
    "            dict_name[\"Sep\"] = dict_name.pop(f\"Sep {year}\")\n",
    "            dict_name[\"Oct\"] = dict_name.pop(f\"Oct {year}\")\n",
    "            dict_name[\"Nov\"] = dict_name.pop(f\"Nov {year}\")\n",
    "            dict_name[\"Dec\"] = dict_name.pop(f\"Dec {year}\")\n",
    "        elif date_format == \"yyyy-mm-dd\":\n",
    "            # rename dictionary keys from digits to Month names\n",
    "            dict_name[\"Jan\"] = dict_name.pop(f\"{year}-01\")\n",
    "            dict_name[\"Feb\"] = dict_name.pop(f\"{year}-02\")\n",
    "            dict_name[\"Mar\"] = dict_name.pop(f\"{year}-03\")\n",
    "            dict_name[\"Apr\"] = dict_name.pop(f\"{year}-04\")\n",
    "            dict_name[\"May\"] = dict_name.pop(f\"{year}-05\")\n",
    "            dict_name[\"Jun\"] = dict_name.pop(f\"{year}-06\")\n",
    "            dict_name[\"Jul\"] = dict_name.pop(f\"{year}-07\")\n",
    "            dict_name[\"Aug\"] = dict_name.pop(f\"{year}-08\")\n",
    "            dict_name[\"Sep\"] = dict_name.pop(f\"{year}-09\")\n",
    "            dict_name[\"Oct\"] = dict_name.pop(f\"{year}-10\")\n",
    "            dict_name[\"Nov\"] = dict_name.pop(f\"{year}-11\")\n",
    "            dict_name[\"Dec\"] = dict_name.pop(f\"{year}-12\")\n",
    "    except:\n",
    "        pass\n",
    "    return dict_name"
   ]
  },
  {
   "cell_type": "code",
   "execution_count": 0,
   "metadata": {
    "application/vnd.databricks.v1+cell": {
     "cellMetadata": {
      "byteLimit": 2048000,
      "rowLimit": 10000
     },
     "inputWidgets": {},
     "nuid": "f3170e93-bc3b-47fa-b6a2-71e2789a3f9d",
     "showTitle": false,
     "title": ""
    }
   },
   "outputs": [
    {
     "output_type": "execute_result",
     "data": {
      "text/plain": [
       "{'Jan': 1494,\n",
       " 'Feb': 1272,\n",
       " 'Mar': 1552,\n",
       " 'Apr': 1324,\n",
       " 'May': 1415,\n",
       " 'Jun': 1619,\n",
       " 'Jul': 1360,\n",
       " 'Aug': 1230,\n",
       " 'Sep': 1152,\n",
       " 'Oct': 1058,\n",
       " 'Nov': 909,\n",
       " 'Dec': 1082}"
      ]
     },
     "execution_count": 85,
     "metadata": {},
     "output_type": "execute_result"
    }
   ],
   "source": [
    "# table showing number of completed studies per month\n",
    "trials_per_month_dict = rename_dates_dict(trials_per_month_dict, completed_date_format, year)\n",
    "trials_per_month_dict"
   ]
  },
  {
   "cell_type": "code",
   "execution_count": 0,
   "metadata": {
    "application/vnd.databricks.v1+cell": {
     "cellMetadata": {
      "byteLimit": 2048000,
      "rowLimit": 10000
     },
     "inputWidgets": {},
     "nuid": "ced0e0fc-b00b-46ec-9cf1-d20ec6a467fb",
     "showTitle": false,
     "title": ""
    }
   },
   "outputs": [
    {
     "output_type": "display_data",
     "data": {
      "image/png": "[encoded data removed]",
      "text/plain": [
       "<Figure size 1000x500 with 1 Axes>"
      ]
     },
     "metadata": {},
     "output_type": "display_data"
    }
   ],
   "source": [
    "# bar plot for number of completed studies per month\n",
    "import matplotlib.pyplot as plt\n",
    "\n",
    "x = trials_per_month_dict.keys()\n",
    "y = trials_per_month_dict.values()\n",
    "fig = plt.figure(figsize=(10, 5))\n",
    "\n",
    "# set colours for bar plot\n",
    "colours = [\"#7CB9E8\", \"#72A0C1\"]\n",
    "\n",
    "plt.bar(x, y, width=0.6, color = colours)\n",
    "plt.xlabel(\"Month\")\n",
    "plt.xticks(fontsize=10)\n",
    "plt.ylabel(\"Number of completed trials\")\n",
    "plt.title(f\"Number of completed clinical trials per month in {year}\")\n",
    "plt.show()"
   ]
  },
  {
   "cell_type": "markdown",
   "metadata": {
    "application/vnd.databricks.v1+cell": {
     "cellMetadata": {
      "byteLimit": 2048000,
      "rowLimit": 10000
     },
     "inputWidgets": {},
     "nuid": "8de9a093-9bf3-4f82-a2eb-985191510688",
     "showTitle": false,
     "title": ""
    }
   },
   "source": [
    "### Further Analysis 1\n",
    "The main dataset has each condition listed under its name as it appeared in the trial. <br>\n",
    "This has resulted in similar conditions being listed separately if the individual trial used different punctuation or a slightly different spelling for the condition. <br>\n",
    "The multiple instances of cancer-related conditions are affected by this due to the number of distinct cancers that appear in the trials. <br>\n",
    "How many cancer-related conditions are there and which cancers are covered most frequently in these clinical trials?"
   ]
  },
  {
   "cell_type": "code",
   "execution_count": 0,
   "metadata": {
    "application/vnd.databricks.v1+cell": {
     "cellMetadata": {
      "byteLimit": 2048000,
      "rowLimit": 10000
     },
     "inputWidgets": {},
     "nuid": "a5c07fb7-d52f-4e13-976d-852f84442056",
     "showTitle": false,
     "title": ""
    }
   },
   "outputs": [
    {
     "output_type": "stream",
     "name": "stdout",
     "output_type": "stream",
     "text": [
      "The top five conditions in the 2023 dataset are:\n"
     ]
    },
    {
     "output_type": "execute_result",
     "data": {
      "text/plain": [
       "[('Healthy', 9731),\n",
       " ('Breast Cancer', 7502),\n",
       " ('Obesity', 6549),\n",
       " ('Stroke', 4071),\n",
       " ('Hypertension', 4020)]"
      ]
     },
     "execution_count": 87,
     "metadata": {},
     "output_type": "execute_result"
    }
   ],
   "source": [
    "# final sorted conditions RDD for comparison\n",
    "print(f\"The top five conditions in the {year} dataset are:\")\n",
    "sorted_condition_rdd.take(5)"
   ]
  },
  {
   "cell_type": "code",
   "execution_count": 0,
   "metadata": {
    "application/vnd.databricks.v1+cell": {
     "cellMetadata": {
      "byteLimit": 2048000,
      "rowLimit": 10000
     },
     "inputWidgets": {},
     "nuid": "25500e60-4946-4bb6-8886-21c0d3fd490c",
     "showTitle": false,
     "title": ""
    }
   },
   "outputs": [
    {
     "output_type": "execute_result",
     "data": {
      "text/plain": [
       "71747"
      ]
     },
     "execution_count": 88,
     "metadata": {},
     "output_type": "execute_result"
    }
   ],
   "source": [
    "# RDD for cancer-related conditions only\n",
    "cancer_rdd = conditions_rdd_filtered.filter(lambda x: \"cancer\" in x.lower())\n",
    "cancer_rdd.count()"
   ]
  },
  {
   "cell_type": "code",
   "execution_count": 0,
   "metadata": {
    "application/vnd.databricks.v1+cell": {
     "cellMetadata": {
      "byteLimit": 2048000,
      "rowLimit": 10000
     },
     "inputWidgets": {},
     "nuid": "82c7c6d8-d694-44b7-9c7a-585a73fbb696",
     "showTitle": false,
     "title": ""
    }
   },
   "outputs": [
    {
     "output_type": "stream",
     "name": "stdout",
     "output_type": "stream",
     "text": [
      "There are 71747 instances of cancer-related conditions in the 2023 dataset, with 5495 distinct cancer-related conditions.\n"
     ]
    }
   ],
   "source": [
    "# print answer to how many cancer-related conditions there are in this dataset\n",
    "print(f\"There are {cancer_rdd.count()} instances of cancer-related conditions in the {year} dataset, with {cancer_rdd.distinct().count()} distinct cancer-related conditions.\")"
   ]
  },
  {
   "cell_type": "code",
   "execution_count": 0,
   "metadata": {
    "application/vnd.databricks.v1+cell": {
     "cellMetadata": {
      "byteLimit": 2048000,
      "rowLimit": 10000
     },
     "inputWidgets": {},
     "nuid": "12435d9b-d3c6-439f-9ccc-9d213930079e",
     "showTitle": false,
     "title": ""
    }
   },
   "outputs": [
    {
     "output_type": "execute_result",
     "data": {
      "text/plain": [
       "[('Kidney Cancer', 1),\n",
       " ('Colorectal Cancer', 1),\n",
       " ('Cervical Cancer', 1),\n",
       " ('Cancer', 1),\n",
       " ('Gynecologic Cancer', 1)]"
      ]
     },
     "execution_count": 90,
     "metadata": {},
     "output_type": "execute_result"
    }
   ],
   "source": [
    "# create pair RDD of cancer-related conditions\n",
    "cancer_count_rdd = cancer_rdd.map(lambda x: (x,1))\n",
    "cancer_count_rdd.take(5)"
   ]
  },
  {
   "cell_type": "code",
   "execution_count": 0,
   "metadata": {
    "application/vnd.databricks.v1+cell": {
     "cellMetadata": {
      "byteLimit": 2048000,
      "rowLimit": 10000
     },
     "inputWidgets": {},
     "nuid": "570efe4e-64d1-4063-ad4c-f3f733f29e49",
     "showTitle": false,
     "title": ""
    }
   },
   "outputs": [
    {
     "output_type": "execute_result",
     "data": {
      "text/plain": [
       "[('Breast Cancer', 7502),\n",
       " ('Prostate Cancer', 3836),\n",
       " ('Cancer', 3290),\n",
       " ('Colorectal Cancer', 2931),\n",
       " ('Lung Cancer', 2713),\n",
       " ('Ovarian Cancer', 1736),\n",
       " ('Pancreatic Cancer', 1634),\n",
       " ('Gastric Cancer', 1531),\n",
       " ('Head and Neck Cancer', 1403),\n",
       " ('Cervical Cancer', 1098)]"
      ]
     },
     "execution_count": 91,
     "metadata": {},
     "output_type": "execute_result"
    }
   ],
   "source": [
    "# reduce pair RDD by key to give counts for each distinct cancer\n",
    "cancer_count_rdd2 = cancer_count_rdd.reduceByKey(lambda a, b: a + b)\n",
    "cancer_count_rdd3 = cancer_count_rdd2.map(lambda pair: (pair[1], pair[0]))\n",
    "sorted_cancer_rdd = cancer_count_rdd3.sortByKey(False).map(lambda pair: (pair[1], pair[0]))\n",
    "sorted_cancer_rdd.take(10)"
   ]
  },
  {
   "cell_type": "code",
   "execution_count": 0,
   "metadata": {
    "application/vnd.databricks.v1+cell": {
     "cellMetadata": {
      "byteLimit": 2048000,
      "rowLimit": 10000
     },
     "inputWidgets": {},
     "nuid": "be356610-548a-4788-8188-9269695dfce3",
     "showTitle": false,
     "title": ""
    }
   },
   "outputs": [],
   "source": [
    "# reverse order of Pair RDD to sort by count for each cancer-related condition\n",
    "cancer_count_rdd3 = cancer_count_rdd2.map(lambda pair: (pair[1], pair[0]))\n",
    "sorted_cancer_rdd = cancer_count_rdd3.sortByKey(False).map(lambda pair: (pair[1], pair[0]))"
   ]
  },
  {
   "cell_type": "code",
   "execution_count": 0,
   "metadata": {
    "application/vnd.databricks.v1+cell": {
     "cellMetadata": {
      "byteLimit": 2048000,
      "rowLimit": 10000
     },
     "inputWidgets": {},
     "nuid": "6c714e9f-d5c3-49a1-9221-32563fddeb98",
     "showTitle": false,
     "title": ""
    }
   },
   "outputs": [
    {
     "output_type": "execute_result",
     "data": {
      "text/plain": [
       "[('Breast Cancer', 7502),\n",
       " ('Prostate Cancer', 3836),\n",
       " ('Cancer', 3290),\n",
       " ('Colorectal Cancer', 2931),\n",
       " ('Lung Cancer', 2713),\n",
       " ('Ovarian Cancer', 1736),\n",
       " ('Pancreatic Cancer', 1634),\n",
       " ('Gastric Cancer', 1531),\n",
       " ('Head and Neck Cancer', 1403),\n",
       " ('Cervical Cancer', 1098),\n",
       " ('Non-small Cell Lung Cancer', 1016),\n",
       " ('Bladder Cancer', 928),\n",
       " ('Non Small Cell Lung Cancer', 857),\n",
       " ('Esophageal Cancer', 857),\n",
       " ('Rectal Cancer', 802),\n",
       " ('Metastatic Breast Cancer', 784),\n",
       " ('Colon Cancer', 691),\n",
       " ('Non-Small Cell Lung Cancer', 648),\n",
       " ('Endometrial Cancer', 623),\n",
       " ('Metastatic Cancer', 582)]"
      ]
     },
     "execution_count": 93,
     "metadata": {},
     "output_type": "execute_result"
    }
   ],
   "source": [
    "# view 20 most-covered cancer-related conditions in this dataset with their frequencies\n",
    "sorted_cancer_rdd.take(20)"
   ]
  }
 ],
 "metadata": {
  "application/vnd.databricks.v1+notebook": {
   "dashboards": [],
   "language": "python",
   "notebookMetadata": {
    "mostRecentlyExecutedCommandWithImplicitDF": {
     "commandId": 2010583334716725,
     "dataframes": [
      "_sqldf"
     ]
    },
    "pythonIndentUnit": 4
   },
   "notebookName": "Jamie_Penhale-Jones_rdd",
   "widgets": {}
  }
 },
 "nbformat": 4,
 "nbformat_minor": 0
}
